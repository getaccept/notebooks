{
  "nbformat": 4,
  "nbformat_minor": 0,
  "metadata": {
    "colab": {
      "provenance": [],
      "authorship_tag": "ABX9TyOXgBhjRC8ToGUkZ07MzrfU",
      "include_colab_link": true
    },
    "kernelspec": {
      "name": "python3",
      "display_name": "Python 3"
    }
  },
  "cells": [
    {
      "cell_type": "markdown",
      "metadata": {
        "id": "view-in-github",
        "colab_type": "text"
      },
      "source": [
        "<a href=\"https://colab.research.google.com/github/getaccept/notebooks/blob/master/API_Download_Archive.ipynb\" target=\"_parent\"><img src=\"https://colab.research.google.com/assets/colab-badge.svg\" alt=\"Open In Colab\"/></a>"
      ]
    },
    {
      "cell_type": "markdown",
      "source": [
        "## Download signed documents to a ZIP-archive\n",
        "\n",
        "Functions to download all documents from selected entity and compress to zip-file.\n",
        "\n",
        "__** NOTE ***__\n",
        "- "
      ],
      "metadata": {
        "id": "gGCnLQTdIVRu"
      }
    },
    {
      "cell_type": "code",
      "metadata": {
        "id": "U0qTIiGLQ68S",
        "cellView": "form"
      },
      "source": [
        "# import dependencies\n",
        "import requests\n",
        "import re\n",
        "from unicodedata import normalize\n",
        "import os\n",
        "import ipywidgets as widgets\n",
        "from zipfile import ZipFile\n",
        "from google.colab import files\n",
        "from IPython.display import HTML, display, clear_output\n",
        "\n",
        "#Constants \n",
        "BASE_URL = \"https://api.getaccept.com/v1\"\n",
        "SOURCE_ENTITY_ID = \"\"\n",
        "#@title ↓↓ Click here to start\n",
        "#@markdown This step might take a few seconds to run. <br>\n",
        "#@markdown Then use __shift+enter__ key or click ► left of each step to go through the flow"
      ],
      "execution_count": null,
      "outputs": []
    },
    {
      "cell_type": "code",
      "source": [
        "email_widget = widgets.Text(\n",
        "    value=\"\",\n",
        "    placeholder=\"Enter login email\",\n",
        "    description=\"Email:\",\n",
        "    disabled=False\n",
        ")\n",
        "password_widget = widgets.Password(\n",
        "    value=\"\",\n",
        "    placeholder=\"Enter password\",\n",
        "    description=\"Password:\",\n",
        "    disabled=False\n",
        ")\n",
        "#@markdown Use the form below to fill in login details to your entity in GetAccept and then run next cell to login\n",
        "widgets.VBox([email_widget, password_widget])"
      ],
      "metadata": {
        "cellView": "form",
        "id": "JaGm-DR5It-W"
      },
      "execution_count": null,
      "outputs": []
    },
    {
      "cell_type": "code",
      "source": [
        "#@markdown Login and store API token\n",
        "if email_widget.value and password_widget.value:\n",
        "  payload = { \"email\": email_widget.value, \"password\": password_widget.value}\n",
        "  if SOURCE_ENTITY_ID != \"\":\n",
        "    payload[\"entity_id\"] = SOURCE_ENTITY_ID\n",
        "  response = requests.post(BASE_URL+\"/auth\", json=payload)\n",
        "  data = response.json()\n",
        "  if \"access_token\" in data:\n",
        "    source_auth_headers = { \"Authorization\": \"bearer \" + data[\"access_token\"]}\n",
        "  else:\n",
        "    raise TypeError(data[\"errors\"], \"Please check your credentials\")\n",
        "  # Check login and list entities\n",
        "  response = requests.get(BASE_URL+\"/users/me\", headers=source_auth_headers)\n",
        "  user_data = response.json()\n",
        "  print(\"Logged in as \" + user_data[\"user\"][\"first_name\"] + \" on entity \" + user_data[\"user\"][\"entity_name\"])\n",
        "  SOURCE_ENTITY_ID = user_data[\"user\"][\"entity_id\"]\n",
        "else:\n",
        "  raise TypeError(\"Could not login, missing email or password!\")"
      ],
      "metadata": {
        "cellView": "form",
        "id": "4tkKVg2KIxMI"
      },
      "execution_count": null,
      "outputs": []
    },
    {
      "cell_type": "code",
      "source": [
        "#@markdown Select the source entity you would like to get settings from. When you're done, run the next cell\n",
        "source_entity_list = list(map(lambda x: (x[\"name\"],x[\"id\"]), user_data[\"entities\"]))\n",
        "source_entity_picker = widgets.Select(\n",
        "    options=sorted(source_entity_list),\n",
        "    value=SOURCE_ENTITY_ID,\n",
        ")\n",
        "source_entity_picker"
      ],
      "metadata": {
        "cellView": "form",
        "id": "UwSSUtEPI0Lv"
      },
      "execution_count": null,
      "outputs": []
    },
    {
      "cell_type": "code",
      "source": [
        "#@markdown Verifying entity token of source...\n",
        "if source_entity_picker.value != SOURCE_ENTITY_ID:\n",
        "  # Switch entity\n",
        "  response = requests.get(BASE_URL+\"/refresh/\"+source_entity_picker.value, headers=source_auth_headers)\n",
        "  data = response.json()\n",
        "  if \"access_token\" in data:\n",
        "    source_auth_headers = { \"Authorization\": \"bearer \" + data[\"access_token\"]}\n",
        "  SOURCE_ENTITY_ID = source_entity_picker.value\n",
        "print(\"Authenticated to source entity \\\"%s\\\"\" % source_entity_picker.label)"
      ],
      "metadata": {
        "cellView": "form",
        "id": "eacrWAjBKNj3"
      },
      "execution_count": null,
      "outputs": []
    },
    {
      "cell_type": "code",
      "metadata": {
        "id": "oqr54VK0RXs8",
        "cellView": "form"
      },
      "source": [
        "document_count_widget = widgets.Text(\n",
        "    value=\"100\",\n",
        "    placeholder=\"Enter document count\",\n",
        "    description=\"Count:\",\n",
        "    disabled=False\n",
        ")\n",
        "document_offset_widget = widgets.Text(\n",
        "    value=\"0\",\n",
        "    placeholder=\"Enter document offset\",\n",
        "    description=\"Offset:\",\n",
        "    disabled=False\n",
        ")\n",
        "#@title Document Count & Offset\n",
        "#@markdown Enter document count and offset. <br><hr>\n",
        "#@markdown *Count* is the number of documents to compress to each zip-file and depending on the document size you will have to limit this to a few megabytes per file. For smaller document sizes, recommended count is 100 and for larger, 10-20.<hr>\n",
        "#@markdown *Offset* is the document number to start downloading at. If you have downloaded the first 100 documents this should be 100 the next run.\n",
        "widgets.VBox([document_count_widget, document_offset_widget])\n",
        "\n",
        "#EMAIL = \"\" #@param {type:\"string\"}\n",
        "#PASSWORD = \"\" #@param {type:\"string\"}\n",
        "#BASEURL = \"https://api.getaccept.com/v1\" #@param {type:\"string\"}\n",
        "#SOURCE_ENTITY = \"\" #@param {type: \"string\"}\n",
        "#DOCUMENT_COUNT = 100 #@param {type: \"number\"}\n",
        "#DOCUMENT_OFFSET = 0 #@param {type: \"number\"}"
      ],
      "execution_count": null,
      "outputs": []
    },
    {
      "cell_type": "markdown",
      "source": [],
      "metadata": {
        "id": "pTRq9Vg7RNkE"
      }
    },
    {
      "cell_type": "code",
      "source": [
        "#@markdown Preparing functions\n",
        "def download_document(document_id, filename):\n",
        "  url = BASE_URL + \"/documents/\" + document_id + \"/download\"\n",
        "  params = { \"direct\": \"true\" }\n",
        "  response = requests.get(url, headers=source_auth_headers, params=params)\n",
        "  directory = \"downloads/\"\n",
        "  if response.content:\n",
        "    if not os.path.exists(directory):\n",
        "      os.makedirs(directory)\n",
        "    with open(directory + filename, 'wb') as f:\n",
        "      f.write(response.content)\n",
        "      f.close()\n",
        "    return directory + filename\n",
        "  else:\n",
        "    return None\n",
        " \n",
        "def slugify(text, delim='-'):\n",
        "    \"\"\"Generates an slightly worse ASCII-only slug.\"\"\"\n",
        "    result = []\n",
        "    punct_re = re.compile(r'[\\t !\"#$%&\\'()*\\-/<=>?@\\[\\\\\\]^_`{|},.:]+')\n",
        "    for word in punct_re.split(text.lower()):\n",
        "        word = normalize('NFKD', word).encode('ascii', 'ignore')\n",
        "        word = word.decode('utf-8')\n",
        "        if word:\n",
        "            result.append(word)\n",
        "    return delim.join(result)\n",
        "\n",
        "def progress(value, max=100):\n",
        "    return HTML(\"\"\"\n",
        "        <progress\n",
        "            value='{value}'\n",
        "            max='{max}',\n",
        "            style='width: 100%'\n",
        "        >\n",
        "            {value}\n",
        "        </progress>\n",
        "    \"\"\".format(value=value, max=max))"
      ],
      "metadata": {
        "cellView": "form",
        "id": "6iyQiUCfKeh0"
      },
      "execution_count": null,
      "outputs": []
    },
    {
      "cell_type": "code",
      "metadata": {
        "id": "49szLRgdR2FS",
        "cellView": "form"
      },
      "source": [
        "#@title Get document list\n",
        "# Get data for signed documents\n",
        "DOCUMENT_COUNT = int(document_count_widget.value)\n",
        "DOCUMENT_OFFSET = int(document_offset_widget.value)\n",
        "url = BASE_URL + \"/documents\"\n",
        "params = { \"filter\": \"signed\", \"showall\": \"true\", \"limit\": DOCUMENT_COUNT, \"offset\": DOCUMENT_OFFSET }\n",
        "response = requests.get(url, headers=source_auth_headers, params=params)\n",
        "documents = response.json()\n",
        "print(\"%d documents ready to download\" % len(documents))"
      ],
      "execution_count": null,
      "outputs": []
    },
    {
      "cell_type": "code",
      "metadata": {
        "id": "6jIcp-3rTHOR",
        "cellView": "form"
      },
      "source": [
        "#@title Run to export ZIP file with signed documents\n",
        "zipfilename = slugify(source_entity_picker.label) + \"_\" + str(DOCUMENT_OFFSET) + \"-\" + str(DOCUMENT_OFFSET + DOCUMENT_COUNT) + \".zip\"\n",
        "count = 0\n",
        "prog = display(progress(count, DOCUMENT_COUNT), display_id=True)\n",
        "with ZipFile(zipfilename, \"w\") as zf:\n",
        "  for document in documents:\n",
        "    filename = slugify(document[\"name\"]) + \"_\" + document[\"id\"] + \".pdf\"\n",
        "    dlfile = download_document(document[\"id\"],filename)\n",
        "    zf.write(dlfile)\n",
        "    os.remove(dlfile)\n",
        "    count = count + 1\n",
        "    prog.update(progress(count, DOCUMENT_COUNT))\n",
        "zf.close()\n",
        "files.download(zipfilename)"
      ],
      "execution_count": null,
      "outputs": []
    }
  ]
}