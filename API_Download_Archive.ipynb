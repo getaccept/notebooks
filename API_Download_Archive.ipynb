{
  "nbformat": 4,
  "nbformat_minor": 0,
  "metadata": {
    "colab": {
      "name": "API Download Archive",
      "provenance": [],
      "collapsed_sections": [],
      "authorship_tag": "ABX9TyM0OrGxj3DFbonzOPpZDHQl",
      "include_colab_link": true
    },
    "kernelspec": {
      "name": "python3",
      "display_name": "Python 3"
    }
  },
  "cells": [
    {
      "cell_type": "markdown",
      "metadata": {
        "id": "view-in-github",
        "colab_type": "text"
      },
      "source": [
        "<a href=\"https://colab.research.google.com/github/getaccept/notebooks/blob/master/API_Download_Archive.ipynb\" target=\"_parent\"><img src=\"https://colab.research.google.com/assets/colab-badge.svg\" alt=\"Open In Colab\"/></a>"
      ]
    },
    {
      "cell_type": "code",
      "metadata": {
        "id": "U0qTIiGLQ68S"
      },
      "source": [
        "# import dependencies\n",
        "import requests\n",
        "import re\n",
        "from unicodedata import normalize\n",
        "import os\n",
        "from zipfile import ZipFile\n",
        "from google.colab import files\n",
        "from IPython.display import HTML, display, clear_output"
      ],
      "execution_count": null,
      "outputs": []
    },
    {
      "cell_type": "code",
      "metadata": {
        "id": "oqr54VK0RXs8"
      },
      "source": [
        "#@title Enter GetAccept login information\n",
        "#@markdown Remember to keep your credentials safe\n",
        "EMAIL = \"\" #@param {type:\"string\"}\n",
        "PASSWORD = \"\" #@param {type:\"string\"}\n",
        "BASEURL = \"https://api.getaccept.com/v1\" #@param {type:\"string\"}\n",
        "SOURCE_ENTITY = \"\" #@param {type: \"string\"}\n",
        "DOCUMENT_COUNT = 100 #@param {type: \"number\"}\n",
        "DOCUMENT_OFFSET = 0 #@param {type: \"number\"}"
      ],
      "execution_count": null,
      "outputs": []
    },
    {
      "cell_type": "code",
      "metadata": {
        "id": "XHcJEBkEA4Ga"
      },
      "source": [
        "# Make auth request and store auth header\n",
        "if EMAIL and PASSWORD:\n",
        "  payload = { \"email\": EMAIL, \"password\": PASSWORD, \"entity_id\": SOURCE_ENTITY }\n",
        "  response = requests.post(BASEURL+\"/auth\", json=payload)\n",
        "  data = response.json()\n",
        "  if \"access_token\" in data:\n",
        "    source_auth_headers = { \"Authorization\": \"bearer \" + data[\"access_token\"]}\n",
        "  else:\n",
        "    raise TypeError(data[\"errors\"], \"Please check your credentials\")\n",
        "  # Check login and list entities\n",
        "  response = requests.get(BASEURL+\"/users/me\", headers=source_auth_headers)\n",
        "  user_data = response.json()\n",
        "  print(\"Logged in as \" + user_data[\"user\"][\"first_name\"] + \" on entity \" + user_data[\"user\"][\"entity_name\"])\n",
        "  if len(user_data[\"entities\"]) > 1:\n",
        "    print(\"Available entities:\\r\\n-\", '\\r\\n- '.join(map(lambda x: x[\"name\"]+\": \\t\"+x[\"id\"], user_data[\"entities\"])))\n",
        "else:\n",
        "  raise Exception(\"Please provide email and password to the GetAccept entity you want to export documents from\")"
      ],
      "execution_count": null,
      "outputs": []
    },
    {
      "cell_type": "code",
      "metadata": {
        "id": "49szLRgdR2FS"
      },
      "source": [
        "# Get data for signed documents\n",
        "url = BASEURL + \"/documents\"\n",
        "params = { \"filter\": \"signed\", \"showall\": \"true\", \"limit\": DOCUMENT_COUNT, \"offset\": DOCUMENT_OFFSET }\n",
        "response = requests.get(url, headers=source_auth_headers, params=params)\n",
        "documents = response.json()"
      ],
      "execution_count": null,
      "outputs": []
    },
    {
      "cell_type": "code",
      "metadata": {
        "id": "ODju9ZqGSNwt"
      },
      "source": [
        "# Define generic functions\n",
        "def download_document(document_id, filename):\n",
        "  url = \"https://api.getaccept.com/v1/documents/\" + document_id + \"/download\"\n",
        "  headers = { \"Authorization\": \"bearer \"+access_token }\n",
        "  params = { \"direct\": \"true\" }\n",
        "  response = requests.get(url, headers=headers, params=params)\n",
        "  directory = \"downloads/\"\n",
        "  if response.content:\n",
        "    if not os.path.exists(directory):\n",
        "      os.makedirs(directory)\n",
        "    with open(directory + filename, 'wb') as f:\n",
        "      f.write(response.content)\n",
        "      f.close()\n",
        "    return directory + filename\n",
        "  else:\n",
        "    return None\n",
        " \n",
        "def slugify(text, delim='-'):\n",
        "    \"\"\"Generates an slightly worse ASCII-only slug.\"\"\"\n",
        "    result = []\n",
        "    punct_re = re.compile(r'[\\t !\"#$%&\\'()*\\-/<=>?@\\[\\\\\\]^_`{|},.:]+')\n",
        "    for word in punct_re.split(text.lower()):\n",
        "        word = normalize('NFKD', word).encode('ascii', 'ignore')\n",
        "        word = word.decode('utf-8')\n",
        "        if word:\n",
        "            result.append(word)\n",
        "    return delim.join(result)\n",
        "\n",
        "def progress(value, max=100):\n",
        "    return HTML(\"\"\"\n",
        "        <progress\n",
        "            value='{value}'\n",
        "            max='{max}',\n",
        "            style='width: 100%'\n",
        "        >\n",
        "            {value}\n",
        "        </progress>\n",
        "    \"\"\".format(value=value, max=max))"
      ],
      "execution_count": null,
      "outputs": []
    },
    {
      "cell_type": "code",
      "metadata": {
        "id": "6jIcp-3rTHOR"
      },
      "source": [
        "# Export and download ZIP file with signed documents\n",
        "zipfilename = \"download-\" + str(DOCUMENT_OFFSET) + \"-\" + str(DOCUMENT_OFFSET + DOCUMENT_COUNT) + \".zip\"\n",
        "count = 0\n",
        "prog = display(progress(count, DOCUMENT_COUNT), display_id=True)\n",
        "with ZipFile(zipfilename, \"w\") as zf:\n",
        "  for document in documents:\n",
        "    filename = slugify(document[\"name\"]) + \"_\" + document[\"id\"] + \".pdf\"\n",
        "    dlfile = download_document(document[\"id\"],filename)\n",
        "    zf.write(dlfile)\n",
        "    os.remove(dlfile)\n",
        "    count = count + 1\n",
        "    prog.update(progress(count, DOCUMENT_COUNT))\n",
        "zf.close()\n",
        "files.download(zipfilename)"
      ],
      "execution_count": null,
      "outputs": []
    }
  ]
}