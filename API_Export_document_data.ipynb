{
  "nbformat": 4,
  "nbformat_minor": 0,
  "metadata": {
    "colab": {
      "name": "API Export document data",
      "provenance": [],
      "private_outputs": true,
      "collapsed_sections": [],
      "include_colab_link": true
    },
    "kernelspec": {
      "name": "python3",
      "display_name": "Python 3"
    }
  },
  "cells": [
    {
      "cell_type": "markdown",
      "metadata": {
        "id": "view-in-github",
        "colab_type": "text"
      },
      "source": [
        "<a href=\"https://colab.research.google.com/github/getaccept/notebooks/blob/master/API_Export_document_data.ipynb\" target=\"_parent\"><img src=\"https://colab.research.google.com/assets/colab-badge.svg\" alt=\"Open In Colab\"/></a>"
      ]
    },
    {
      "cell_type": "markdown",
      "metadata": {
        "id": "yImv1nBhAnHY"
      },
      "source": [
        "## Export document data\n",
        "\n",
        "Functions to export document data as CSV file"
      ]
    },
    {
      "cell_type": "code",
      "metadata": {
        "id": "P8kOt0zMgHQm"
      },
      "source": [
        "# import dependencies\n",
        "import requests\n",
        "import os\n",
        "import io\n",
        "import csv\n",
        "from google.colab import files"
      ],
      "execution_count": null,
      "outputs": []
    },
    {
      "cell_type": "code",
      "metadata": {
        "id": "SgLUxQ5qkW3I",
        "cellView": "both"
      },
      "source": [
        "#@title Enter GetAccept login information\n",
        "#@markdown Remember to keep your credentials safe\n",
        "EMAIL = \"\" #@param {type:\"string\"}\n",
        "PASSWORD = \"\" #@param {type:\"string\"}\n",
        "BASEURL = \"https://api.getaccept.com/v1\" #@param {type:\"string\"}\n",
        "ACTION = \"Signed documents\" #@param [\"Signed documents\",\"All documents\"]\n",
        "SOURCE_ENTITY = \"\" #@param {type: \"string\"}\n",
        "LAST_DOCUMENTS_COUNT = 500 #@param {type: \"number\"}\n",
        "EXPORT_FILENAME = \"export.csv\" #@param {type: \"string\"}"
      ],
      "execution_count": null,
      "outputs": []
    },
    {
      "cell_type": "code",
      "metadata": {
        "id": "1aV081TwBh_I"
      },
      "source": [
        "# Make auth request and store auth header\n",
        "if EMAIL and PASSWORD:\n",
        "  payload = { \"email\": EMAIL, \"password\": PASSWORD, \"entity_id\": SOURCE_ENTITY }\n",
        "  response = requests.post(BASEURL+\"/auth\", json=payload)\n",
        "  data = response.json()\n",
        "  if \"access_token\" in data:\n",
        "    source_auth_headers = { \"Authorization\": \"bearer \" + data[\"access_token\"]}\n",
        "  else:\n",
        "    raise TypeError(data[\"errors\"], \"Please check your credentials\")\n",
        "  # Check login and list entities\n",
        "  response = requests.get(BASEURL+\"/users/me\", headers=source_auth_headers)\n",
        "  user_data = response.json()\n",
        "  print(\"Logged in as \" + user_data[\"user\"][\"first_name\"] + \" on entity \" + user_data[\"user\"][\"entity_name\"])\n",
        "  if len(user_data[\"entities\"]) > 1:\n",
        "    print(\"Available entities:\\r\\n-\", '\\r\\n- '.join(map(lambda x: x[\"name\"]+\": \\t\"+x[\"id\"], user_data[\"entities\"])))\n"
      ],
      "execution_count": null,
      "outputs": []
    },
    {
      "cell_type": "code",
      "metadata": {
        "id": "gU1mLWWsK1Ck"
      },
      "source": [
        "if ACTION == \"All documents\":\n",
        "  # Get data for all documents\n",
        "  response = requests.get(BASEURL+\"/documents?showall=true&sort_by=created&sort_order=desc&offset=0&limit=\"+str(LAST_DOCUMENTS_COUNT),headers=source_auth_headers)\n",
        "  document_data = response.json()\n",
        "if ACTION == \"Signed documents\":\n",
        "  # Get data for signed documents\n",
        "  response = requests.get(BASEURL+\"/documents?filter=signed&showall=true&sort_order=desc&offset=0&limit=\"+str(LAST_DOCUMENTS_COUNT),headers=source_auth_headers)\n",
        "  document_data = response.json()\n"
      ],
      "execution_count": null,
      "outputs": []
    },
    {
      "cell_type": "code",
      "metadata": {
        "id": "dIxztIQNGctb"
      },
      "source": [
        "# Get field names and flatten recipients\n",
        "fieldnames = []\n",
        "for document in document_data:\n",
        "  for key, field in enumerate(document):\n",
        "    if field not in fieldnames and not isinstance(document[field],list):\n",
        "      fieldnames.append(field)\n",
        "\n",
        "  if 'recipients' in document:\n",
        "    for recid,recipient in enumerate(document['recipients']):\n",
        "      for key, value in recipient.items():\n",
        "        fieldname = 'recipient{}_{}'.format(recid+1,key)\n",
        "        document[fieldname] = value\n",
        "        if not fieldname in fieldnames:\n",
        "          fieldnames.append(fieldname)\n",
        "  \n",
        "    del document['recipients']"
      ],
      "execution_count": null,
      "outputs": []
    },
    {
      "cell_type": "code",
      "metadata": {
        "id": "_EWd4T3bNHyj"
      },
      "source": [
        "# Export and download CSV file with data\n",
        "with open(EXPORT_FILENAME, 'w', newline='') as csv_file:\n",
        "    # Attach a CSV writer to the file with the desired fieldnames\n",
        "    writer = csv.DictWriter(csv_file, fieldnames)\n",
        "    # Write the header row\n",
        "    writer.writeheader()\n",
        "\n",
        "    # Write document data to rows\n",
        "    for row in document_data:\n",
        "      writer.writerow(row)\n",
        "files.download(EXPORT_FILENAME) \n"
      ],
      "execution_count": null,
      "outputs": []
    }
  ]
}