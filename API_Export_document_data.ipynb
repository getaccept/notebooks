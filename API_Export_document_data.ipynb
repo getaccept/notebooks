{
  "nbformat": 4,
  "nbformat_minor": 0,
  "metadata": {
    "colab": {
      "provenance": [],
      "private_outputs": true,
      "include_colab_link": true
    },
    "kernelspec": {
      "name": "python3",
      "display_name": "Python 3"
    }
  },
  "cells": [
    {
      "cell_type": "markdown",
      "metadata": {
        "id": "view-in-github",
        "colab_type": "text"
      },
      "source": [
        "<a href=\"https://colab.research.google.com/github/getaccept/notebooks/blob/master/API_Export_document_data.ipynb\" target=\"_parent\"><img src=\"https://colab.research.google.com/assets/colab-badge.svg\" alt=\"Open In Colab\"/></a>"
      ]
    },
    {
      "cell_type": "markdown",
      "metadata": {
        "id": "yImv1nBhAnHY"
      },
      "source": [
        "## Export document data\n",
        "\n",
        "Functions to export document meta data as CSV file\n"
      ]
    },
    {
      "cell_type": "code",
      "metadata": {
        "id": "P8kOt0zMgHQm",
        "cellView": "form"
      },
      "source": [
        "# import dependencies\n",
        "import requests\n",
        "import re\n",
        "from unicodedata import normalize\n",
        "import os\n",
        "import io\n",
        "import csv\n",
        "from google.colab import files\n",
        "import ipywidgets as widgets\n",
        "\n",
        "#Constants \n",
        "BASE_URL = \"https://api.getaccept.com/v1\"\n",
        "SOURCE_ENTITY_ID = \"\"\n",
        "#@title ↓↓ Click here to start\n",
        "#@markdown This step might take a few seconds to run. <br>\n",
        "#@markdown Then use __shift+enter__ key or click ► left of each step to go through the flow"
      ],
      "execution_count": null,
      "outputs": []
    },
    {
      "cell_type": "code",
      "source": [
        "email_widget = widgets.Text(\n",
        "    value=\"\",\n",
        "    placeholder=\"Enter login email\",\n",
        "    description=\"Email:\",\n",
        "    disabled=False\n",
        ")\n",
        "password_widget = widgets.Password(\n",
        "    value=\"\",\n",
        "    placeholder=\"Enter password\",\n",
        "    description=\"Password:\",\n",
        "    disabled=False\n",
        ")\n",
        "#@markdown Use the form below to fill in login details to your entity in GetAccept and then run next cell to login\n",
        "widgets.VBox([email_widget, password_widget])"
      ],
      "metadata": {
        "cellView": "form",
        "id": "ii6qk7AYRhdg"
      },
      "execution_count": null,
      "outputs": []
    },
    {
      "cell_type": "code",
      "source": [
        "#@markdown Login and store API token\n",
        "if email_widget.value and password_widget.value:\n",
        "  payload = { \"email\": email_widget.value, \"password\": password_widget.value}\n",
        "  if SOURCE_ENTITY_ID != \"\":\n",
        "    payload[\"entity_id\"] = SOURCE_ENTITY_ID\n",
        "  response = requests.post(BASE_URL+\"/auth\", json=payload)\n",
        "  data = response.json()\n",
        "  if \"access_token\" in data:\n",
        "    source_auth_headers = { \"Authorization\": \"bearer \" + data[\"access_token\"]}\n",
        "  else:\n",
        "    raise TypeError(data[\"errors\"], \"Please check your credentials\")\n",
        "  # Check login and list entities\n",
        "  response = requests.get(BASE_URL+\"/users/me\", headers=source_auth_headers)\n",
        "  user_data = response.json()\n",
        "  print(\"Logged in as \" + user_data[\"user\"][\"first_name\"] + \" on entity \" + user_data[\"user\"][\"entity_name\"])\n",
        "  SOURCE_ENTITY_ID = user_data[\"user\"][\"entity_id\"]\n",
        "else:\n",
        "  raise TypeError(\"Could not login, missing email or password!\")"
      ],
      "metadata": {
        "cellView": "form",
        "id": "lKQoO1ttRjWd"
      },
      "execution_count": null,
      "outputs": []
    },
    {
      "cell_type": "code",
      "source": [
        "#@markdown Select the source entity you would like to get settings from. When you're done, run the next cell\n",
        "source_entity_list = list(map(lambda x: (x[\"name\"],x[\"id\"]), user_data[\"entities\"]))\n",
        "source_entity_picker = widgets.Select(\n",
        "    options=sorted(source_entity_list),\n",
        "    value=SOURCE_ENTITY_ID,\n",
        ")\n",
        "source_entity_picker"
      ],
      "metadata": {
        "cellView": "form",
        "id": "0P1Tz2wdRl9s"
      },
      "execution_count": null,
      "outputs": []
    },
    {
      "cell_type": "code",
      "source": [
        "#@markdown Verifying entity token of source...\n",
        "if source_entity_picker.value != SOURCE_ENTITY_ID:\n",
        "  # Switch entity\n",
        "  response = requests.get(BASE_URL+\"/refresh/\"+source_entity_picker.value, headers=source_auth_headers)\n",
        "  data = response.json()\n",
        "  if \"access_token\" in data:\n",
        "    source_auth_headers = { \"Authorization\": \"bearer \" + data[\"access_token\"]}\n",
        "  SOURCE_ENTITY_ID = source_entity_picker.value\n",
        "print(\"Authenticated to source entity \\\"%s\\\"\" % source_entity_picker.label)"
      ],
      "metadata": {
        "cellView": "form",
        "id": "o8jl5--bRniV"
      },
      "execution_count": null,
      "outputs": []
    },
    {
      "cell_type": "code",
      "source": [
        "document_count_widget = widgets.Text(\n",
        "    value=\"500\",\n",
        "    placeholder=\"Enter document count\",\n",
        "    description=\"Count:\",\n",
        "    disabled=False\n",
        ")\n",
        "document_offset_widget = widgets.Text(\n",
        "    value=\"0\",\n",
        "    placeholder=\"Enter document offset\",\n",
        "    description=\"Offset:\",\n",
        "    disabled=False\n",
        ")\n",
        "#@title Document Count & Offset\n",
        "#@markdown Enter document count and offset. <br><hr>\n",
        "#@markdown *Count* is the number of documents to get in the export<hr>\n",
        "#@markdown *Offset* is the document number to start at. If you have collected data for the first 100 documents this should be 100 the next run.\n",
        "widgets.VBox([document_count_widget, document_offset_widget])"
      ],
      "metadata": {
        "cellView": "form",
        "id": "F4BSJNn1RqT9"
      },
      "execution_count": null,
      "outputs": []
    },
    {
      "cell_type": "code",
      "source": [
        "#@markdown Select the type of documents to get\n",
        "document_type_picker = widgets.Select(\n",
        "    options=[[\"Signed documents\", \"signed\"], [\"All documents\", \"all\"]],\n",
        "    value=\"signed\",\n",
        ")\n",
        "document_type_picker"
      ],
      "metadata": {
        "cellView": "form",
        "id": "zkAdcebRSK5R"
      },
      "execution_count": null,
      "outputs": []
    },
    {
      "cell_type": "code",
      "source": [
        "#@markdown Enter export filename\n",
        "#@markdown *ex. export.csv*<br>\n",
        "def slugify(text, delim='-'):\n",
        "    \"\"\"Generates an slightly worse ASCII-only slug.\"\"\"\n",
        "    result = []\n",
        "    punct_re = re.compile(r'[\\t !\"#$%&\\'()*\\-/<=>?@\\[\\\\\\]^_`{|},.:]+')\n",
        "    for word in punct_re.split(text.lower()):\n",
        "        word = normalize('NFKD', word).encode('ascii', 'ignore')\n",
        "        word = word.decode('utf-8')\n",
        "        if word:\n",
        "            result.append(word)\n",
        "    return delim.join(result)\n",
        "suggested_filename = slugify(source_entity_picker.label, \"_\") + \"-\" + slugify(document_type_picker.label, \"_\") + \".csv\"\n",
        "export_filename_widget = widgets.Text(\n",
        "    value=suggested_filename,\n",
        "    placeholder=\"Enter filename\",\n",
        "    description=\"Filename:\",\n",
        "    layout={\"width\": \"500px\"},\n",
        "    disabled=False\n",
        ")\n",
        "export_filename_widget"
      ],
      "metadata": {
        "cellView": "form",
        "id": "m68E8t4RSnCj"
      },
      "execution_count": null,
      "outputs": []
    },
    {
      "cell_type": "code",
      "metadata": {
        "id": "gU1mLWWsK1Ck",
        "cellView": "form"
      },
      "source": [
        "#@title Get document list\n",
        "#@markdown Preparing documents for export\n",
        "DOCUMENT_COUNT = int(document_count_widget.value)\n",
        "DOCUMENT_OFFSET = int(document_offset_widget.value)\n",
        "EXPORT_FILENAME = export_filename_widget.value\n",
        "if document_type_picker.value == \"all\":\n",
        "  # Get data for all documents\n",
        "  response = requests.get(BASE_URL+\"/documents?showall=true&sort_by=created&sort_order=desc&offset=\"+str(DOCUMENT_OFFSET)+\"&limit=\"+str(DOCUMENT_COUNT),headers=source_auth_headers)\n",
        "  document_data = response.json()\n",
        "if document_type_picker.value == \"signed\":\n",
        "  # Get data for signed documents\n",
        "  response = requests.get(BASE_URL+\"/documents?filter=signed&showall=true&sort_order=desc&offset=\"+str(DOCUMENT_OFFSET)+\"&limit=\"+str(DOCUMENT_COUNT),headers=source_auth_headers)\n",
        "  document_data = response.json()\n",
        "\n",
        "# Get field names and flatten recipients\n",
        "fieldnames = []\n",
        "for document in document_data:\n",
        "  for key, field in enumerate(document):\n",
        "    if field not in fieldnames and not isinstance(document[field],list):\n",
        "      fieldnames.append(field)\n",
        "\n",
        "  if 'recipients' in document:\n",
        "    for recid,recipient in enumerate(document['recipients']):\n",
        "      for key, value in recipient.items():\n",
        "        fieldname = 'recipient{}_{}'.format(recid+1,key)\n",
        "        document[fieldname] = value\n",
        "        if not fieldname in fieldnames:\n",
        "          fieldnames.append(fieldname)\n",
        "  \n",
        "    del document['recipients']\n",
        "print(\"%d documents ready to export\" % len(document_data))"
      ],
      "execution_count": null,
      "outputs": []
    },
    {
      "cell_type": "code",
      "metadata": {
        "id": "_EWd4T3bNHyj",
        "cellView": "form"
      },
      "source": [
        "#@title Export and download CSV file with data\n",
        "#@markdown The file will automatically be downloaded after export is finished.\n",
        "with open(EXPORT_FILENAME, 'w', newline='') as csv_file:\n",
        "    # Attach a CSV writer to the file with the desired fieldnames\n",
        "    writer = csv.DictWriter(csv_file, fieldnames)\n",
        "    # Write the header row\n",
        "    writer.writeheader()\n",
        "\n",
        "    # Write document data to rows\n",
        "    for row in document_data:\n",
        "      writer.writerow(row)\n",
        "files.download(EXPORT_FILENAME) \n"
      ],
      "execution_count": null,
      "outputs": []
    }
  ]
}