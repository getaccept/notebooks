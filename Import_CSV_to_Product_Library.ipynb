{
  "nbformat": 4,
  "nbformat_minor": 0,
  "metadata": {
    "colab": {
      "provenance": [],
      "include_colab_link": true
    },
    "kernelspec": {
      "name": "python3",
      "display_name": "Python 3"
    },
    "language_info": {
      "name": "python"
    }
  },
  "cells": [
    {
      "cell_type": "markdown",
      "metadata": {
        "id": "view-in-github",
        "colab_type": "text"
      },
      "source": [
        "<a href=\"https://colab.research.google.com/github/getaccept/notebooks/blob/master/Import_CSV_to_Product_Library.ipynb\" target=\"_parent\"><img src=\"https://colab.research.google.com/assets/colab-badge.svg\" alt=\"Open In Colab\"/></a>"
      ]
    },
    {
      "cell_type": "markdown",
      "source": [
        "## Import CSV to Product Library\n",
        "\n",
        "Function to import products from a CSV file to Product Library on an entity.\n",
        "#### Example of CSV format:\n",
        "```\n",
        "name,sku,description,price,tax,currency,locale\n",
        "Bicycle,bic1,This is a nice 2-wheeled bycicle,1200,25,SEK,sv-SE\n",
        "```\n",
        "\n",
        "__** NOTE ***__\n",
        "* Required fields are: **name**, **price**, **currency** and **locale**.\n",
        " *  You can set the **price** value to 0 if missing.\n",
        "* With the **locale** and **currency** options seen below:\n",
        "\n",
        "label: 'EUR', currencyCode: 'EUR', locale: 'fr-DE'\n",
        "\n",
        "label: 'Germany - EUR', currencyCode: 'EUR', locale: 'de-DE'\n",
        "\n",
        "label: 'France - EUR', currencyCode: 'EUR', locale: 'fr-FR'\n",
        "\n",
        "label: 'Italy - EUR', currencyCode: 'EUR', locale: 'it-IT'\n",
        "\n",
        "label: 'Spain - EUR', currencyCode: 'EUR', locale: 'es-ES'\n",
        "\n",
        "label: 'Netherlands - EUR', currencyCode: 'EUR', locale: 'nl-NL'\n",
        "\n",
        "label: 'Belgium - EUR', currencyCode: 'EUR', locale: 'nl-BE'\n",
        "\n",
        "label: 'Greece - EUR', currencyCode: 'EUR', locale: 'el-GR'\n",
        "\n",
        "label: 'Portugal - EUR', currencyCode: 'EUR', locale: 'pt-PT'\n",
        "\n",
        "label: 'Austria - EUR', currencyCode: 'EUR', locale: 'de-AT'\n",
        "\n",
        "label: 'Finland - EUR', currencyCode: 'EUR', locale: 'fi-FI'\n",
        "\n",
        "label: 'Slovakia - EUR', currencyCode: 'EUR', locale: 'sk-SK'\n",
        "\n",
        "label: 'Ireland - EUR', currencyCode: 'EUR', locale: 'en-IE'\n",
        "\n",
        "label: 'Lithuania - EUR', currencyCode: 'EUR', locale: 'lt-LT'\n",
        "\n",
        "label: 'Slovenia - EUR', currencyCode: 'EUR', locale: 'sl-SI'\n",
        "\n",
        "label: 'Latvia - EUR', currencyCode: 'EUR', locale: 'lv-LV'\n",
        "\n",
        "label: 'Estonia - EUR', currencyCode: 'EUR', locale: 'et-EE'\n",
        "\n",
        "label: 'Cyprus - EUR', currencyCode: 'EUR', locale: 'el-CY'\n",
        "\n",
        "label: 'Luxembourg - EUR', currencyCode: 'EUR', locale: 'lb-LU'\n",
        "\n",
        "label: 'Malta - EUR', currencyCode: 'EUR', locale: 'mt-MT'\n",
        "\n",
        "label: 'United States - USD', currencyCode: 'USD', locale: 'en-US'\n",
        "\n",
        "label: 'United kingdom - GBP', currencyCode: 'GBP', locale: 'en-GB'\n",
        "\n",
        "label: 'Canada - CAD', currencyCode: 'CAD', locale: 'en-CA'\n",
        "\n",
        "label: 'Hong kong - HKD', currencyCode: 'HKD', locale: 'en-HK'\n",
        "\n",
        "label: 'Singapore - SGD', currencyCode: 'SGD', locale: 'en-SG'\n",
        "\n",
        "label: 'Switzerland - CHF', currencyCode: 'CHF', locale: 'de-CH'\n",
        "\n",
        "label: 'Japan - JPY', currencyCode: 'JPY', locale: 'ja-JP'\n",
        "\n",
        "label: 'Sweden - SEK', currencyCode: 'SEK', locale: 'sv-SE'\n",
        "\n",
        "label: 'Denmark - DKK', currencyCode: 'DKK', locale: 'da-DK'\n",
        "\n",
        "label: 'Norway - NOK', currencyCode: 'NOK', locale: 'nn-NO'\n",
        "\n",
        "label: 'Brazil - BRL', currencyCode: 'BRL', locale: 'pt-BR'\n",
        "\n",
        "label: 'India - INR', currencyCode: 'INR', locale: 'hi-IN'\n",
        "\n",
        "label: 'South Africa - ZAR', currencyCode: 'ZAR', locale: 'af-ZA'\n",
        "\n",
        "label: 'Australia - AUD', currencyCode: 'AUD', locale: 'de-AT'\n",
        "\n",
        "label: 'New Zeeland - NZD', currencyCode: 'NZD', locale: 'en-NZ'\n",
        "\n",
        "label: 'Thailand - THB', currencyCode: 'THB', locale: 'th-TH'\n",
        "\n",
        "label: 'Poland - PLN', currencyCode: 'PLN', locale: 'pl-PL'\n",
        "\n",
        "label: 'Lebanon - LBP', currencyCode: 'LBP', locale: 'en-LB'\n",
        "\n",
        "label: 'Bahrain - BHD', currencyCode: 'BHD', locale: 'en-BH'\n",
        "\n",
        "label: 'Jordan - JOD', currencyCode: 'JOD', locale: 'en-JO'\n",
        "\n",
        "label: 'Saudi Arabia - SAR', currencyCode: 'SAR', locale: 'en-SA'\n",
        "\n",
        "label: 'United Arab Emirates - AED', currencyCode: 'AED', locale: 'en-AE'\n",
        "\n",
        "label: 'India - INR', currencyCode: 'INR', locale: 'en-IN'"
      ],
      "metadata": {
        "id": "f_WQVVMzD4GK"
      }
    },
    {
      "cell_type": "code",
      "execution_count": null,
      "metadata": {
        "cellView": "form",
        "id": "-qty2v2KDyKb"
      },
      "outputs": [],
      "source": [
        "# import dependencies\n",
        "import requests\n",
        "import os\n",
        "import io\n",
        "import json\n",
        "import copy\n",
        "import pandas as pd\n",
        "import ipywidgets as widgets\n",
        "from google.colab import files\n",
        "\n",
        "#Constants\n",
        "BASE_URL = \"https://api.getaccept.com/v1\"\n",
        "INT_BASE_URL = \"https://int.getaccept.com\"\n",
        "SOURCE_ENTITY_ID = \"\"\n",
        "source_auth_headers = {}\n",
        "#@title ↓↓ Click here to start\n",
        "#@markdown This step might take a few seconds to run. <br>\n",
        "#@markdown Then use __shift+enter__ key or click ► left of each step to go through the flow"
      ]
    },
    {
      "cell_type": "code",
      "source": [
        "email_widget = widgets.Text(\n",
        "    value=\"\",\n",
        "    placeholder=\"Enter login email\",\n",
        "    description=\"Email:\",\n",
        "    disabled=False\n",
        ")\n",
        "password_widget = widgets.Password(\n",
        "    value=\"\",\n",
        "    placeholder=\"Enter password\",\n",
        "    description=\"Password:\",\n",
        "    disabled=False\n",
        ")\n",
        "#@markdown Use the form below to fill in login details to your entity in GetAccept and then run next cell to login <br>\n",
        "widgets.VBox([email_widget, password_widget])"
      ],
      "metadata": {
        "cellView": "form",
        "id": "3Pxjwbg_EI-H"
      },
      "execution_count": null,
      "outputs": []
    },
    {
      "cell_type": "code",
      "source": [
        "#@markdown Login and store API token\n",
        "if email_widget.value and password_widget.value:\n",
        "  payload = { \"email\": email_widget.value, \"password\": password_widget.value}\n",
        "  if SOURCE_ENTITY_ID != \"\":\n",
        "    payload[\"entity_id\"] = SOURCE_ENTITY_ID\n",
        "  response = requests.post(BASE_URL+\"/auth\", json=payload)\n",
        "  data = response.json()\n",
        "  if \"access_token\" in data:\n",
        "    source_auth_headers = { \"Authorization\": \"bearer \" + data[\"access_token\"]}\n",
        "  else:\n",
        "    raise TypeError(data[\"errors\"], \"Please check your credentials\")\n",
        "  # Check login and list entities\n",
        "  response = requests.get(BASE_URL+\"/users/me\", headers=source_auth_headers)\n",
        "  user_data = response.json()\n",
        "  print(\"Logged in as \" + user_data[\"user\"][\"first_name\"] + \" on entity \" + user_data[\"user\"][\"entity_name\"])\n",
        "  SOURCE_ENTITY_ID = user_data[\"user\"][\"entity_id\"]\n",
        "else:\n",
        "  raise TypeError(\"Could not login, missing email or password!\")"
      ],
      "metadata": {
        "cellView": "form",
        "id": "j7kEiimqEKbP"
      },
      "execution_count": null,
      "outputs": []
    },
    {
      "cell_type": "code",
      "source": [
        "#@markdown Select the entity you would like to update the Products to. When you're done, run the next cell\n",
        "source_entity_list = list(map(lambda x: (x[\"name\"],x[\"id\"]), user_data[\"entities\"]))\n",
        "source_entity_picker = widgets.Select(\n",
        "    options=source_entity_list,\n",
        "    value=SOURCE_ENTITY_ID,\n",
        ")\n",
        "source_entity_picker"
      ],
      "metadata": {
        "id": "kgJu2n_eEOTd",
        "cellView": "form"
      },
      "execution_count": null,
      "outputs": []
    },
    {
      "cell_type": "code",
      "source": [
        "#@markdown Verifying entity token of source...\n",
        "if source_entity_picker.value != SOURCE_ENTITY_ID:\n",
        "  # Switch entity\n",
        "  response = requests.get(BASE_URL+\"/refresh/\"+source_entity_picker.value, headers=source_auth_headers)\n",
        "  data = response.json()\n",
        "  if \"access_token\" in data:\n",
        "    source_auth_headers = { \"Authorization\": \"bearer \" + data[\"access_token\"]}\n",
        "  SOURCE_ENTITY_ID = source_entity_picker.value\n",
        "print(\"Token verified\")"
      ],
      "metadata": {
        "cellView": "form",
        "id": "5bARjas4EOsE"
      },
      "execution_count": null,
      "outputs": []
    },
    {
      "cell_type": "code",
      "source": [
        "#@markdown Upload a CSV file with your products:<br>\n",
        "uploaded = files.upload()\n",
        "filePath = \"/content/\" + list(uploaded.keys())[0]"
      ],
      "metadata": {
        "cellView": "form",
        "id": "xNEUManFFV1h"
      },
      "execution_count": null,
      "outputs": []
    },
    {
      "cell_type": "code",
      "source": [
        "#@markdown Import products from CSV\n",
        "def get_products():\n",
        "  payload = {\"operationName\":\"getAllProducts\",\"variables\":{\"searchTerms\":\"\",\"limit\":100,\"offset\":0,\"sort\":\"desc\",\"sortBy\":\"createdAt\"},\"query\":\"query getAllProducts($searchTerms: String!, $limit: Int!, $offset: Int!, $sort: String!, $sortBy: SortAttributes!) {\\n  getAllProducts(searchTerms: $searchTerms, limit: $limit, offset: $offset, sort: $sort, sortBy: $sortBy) {\\n    products {\\n      ...productListFragment\\n      __typename\\n    }\\n    totalCount\\n    __typename\\n  }\\n}\\n\\nfragment productListFragment on Product {\\n  id\\n  sku\\n  name\\n  price\\n  tax\\n  description\\n  metaData {\\n    locale\\n    currency\\n    __typename\\n  }\\n  updatedByFullName\\n  updatedAt\\n  createdByFullName\\n  createdAt\\n  __typename\\n}\\n\"}\n",
        "  result = requests.post(INT_BASE_URL+\"/graphql?op=getAllProducts\", json=payload, headers=source_auth_headers)\n",
        "  product_result = result.json()\n",
        "  if product_result.get(\"errors\"):\n",
        "    print(payload)\n",
        "    print(product_result)\n",
        "    raise TypeError(\"Could not get products!\")\n",
        "  else:\n",
        "    products = product_result[\"data\"][\"getAllProducts\"][\"products\"]\n",
        "    return products\n",
        "\n",
        "def create_product(prod):\n",
        "  payload = {\"operationName\":\"CreateProduct\",\"variables\":{\"payload\":{\"name\":str(prod[\"name\"]), \"sku\": str(prod[\"sku\"]) if pd.notnull(prod[\"sku\"]) else \"\",\"description\": str(prod[\"description\"]) if pd.notnull(prod[\"description\"]) else \"\",\"price\":str(prod[\"price\"]),\"tax\":str(prod[\"tax\"]) if pd.notnull(prod[\"tax\"]) else \"\",\"metaData\":{\"locale\":prod[\"locale\"],\"currency\":prod[\"currency\"]}}},\"query\":\"mutation CreateProduct($payload: CreateProductInput!) {\\n  createProduct(payload: $payload)\\n}\\n\"}\n",
        "  result = requests.post(INT_BASE_URL+\"/graphql?op=CreateProduct\", json=payload, headers=source_auth_headers)\n",
        "  create_product_result = result.json()\n",
        "  if create_product_result.get(\"errors\"):\n",
        "    print(payload)\n",
        "    print(create_product_result)\n",
        "    raise TypeError(\"Could not create product!\")\n",
        "  else:\n",
        "    if create_product_result[\"data\"][\"createProduct\"] == True:\n",
        "      print(\"- Product \\\"\" + prod[\"name\"] + \"\\\" added\")\n",
        "    else:\n",
        "      print(\"Couldn't add product\")\n",
        "\n",
        "# Get existing products\n",
        "products = get_products()\n",
        "# Loop through csv and add products\n",
        "df = pd.read_csv(filePath)\n",
        "# Convert column names to lowercase to handle case sensitivity\n",
        "df.columns = df.columns.str.lower()\n",
        "for index, row in df.iterrows():\n",
        "  # Check if product sku exists\n",
        "  exists = False\n",
        "#  for prod in products:\n",
        "#    if prod[\"sku\"] == row[\"sku\"]:\n",
        "#      exists = True\n",
        "#      break\n",
        "  if not exists:\n",
        "    print(\"Adding product \\\"\" + row[\"name\"] + \"\\\"\")\n",
        "    create_product(row)\n",
        "print(\"Finished importing!\")"
      ],
      "metadata": {
        "id": "kIOJfWcmG5Ol",
        "cellView": "form"
      },
      "execution_count": null,
      "outputs": []
    },
    {
      "cell_type": "markdown",
      "source": [
        "**Troubleshooting:**\n",
        "\n",
        "In most cases the CSV file structure is incorrect. You can use this [CSV Product Import Template](https://docs.google.com/spreadsheets/d/1SCGiiAt9k-xsGg6fnyshHft5eR0Q6noc0PzFrSKSRMg/edit?usp=sharing) for inspiration, make a copy and follow the same structure.\n",
        "\n",
        "The columns must be added in the correct order (name,sku,description,price,tax,currency,locale) and all of the column names are case sensitive. The script will crash if the column **\"sku\"** is called **\"SKU\"** or **\"Sku\"**. Always check the columns for typos if the script crashes.\n",
        "\n",
        "If the customer shares a CSV file with you, then make sure that the file is comma separated `,` and not separated by semicolon `;`."
      ],
      "metadata": {
        "id": "gCOhKsGqmslA"
      }
    }
  ]
}
