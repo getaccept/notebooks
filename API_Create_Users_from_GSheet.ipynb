{
  "nbformat": 4,
  "nbformat_minor": 0,
  "metadata": {
    "colab": {
      "provenance": [],
      "include_colab_link": true
    },
    "kernelspec": {
      "name": "python3",
      "display_name": "Python 3"
    },
    "language_info": {
      "name": "python"
    }
  },
  "cells": [
    {
      "cell_type": "markdown",
      "metadata": {
        "id": "view-in-github",
        "colab_type": "text"
      },
      "source": [
        "<a href=\"https://colab.research.google.com/github/getaccept/notebooks/blob/master/API_Create_Users_from_GSheet.ipynb\" target=\"_parent\"><img src=\"https://colab.research.google.com/assets/colab-badge.svg\" alt=\"Open In Colab\"/></a>"
      ]
    },
    {
      "cell_type": "markdown",
      "source": [
        "## Bulk users in batch from Google Sheet using GetAccept API\n",
        "\n",
        "Script to bulk create new users from a list in a Google Sheet spreadsheet. Email address must be placed on column #1 having the list starting from row #2.\n",
        "\n",
        "The other columns are optional.\n",
        "* available fields: __first_name, last_name, email, title, phone, mobile, role, note__\n",
        "* __role__ column should be one of the values *user, manager, admin* and **it's case sensitive.**\n",
        "* __team_id__ column should be the\n",
        "\n",
        "__** Example ***__\n",
        "\n",
        "![image.png](data:image/png;base64,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)"
      ],
      "metadata": {
        "id": "YwZhhPKsjhh5"
      }
    },
    {
      "cell_type": "code",
      "source": [
        "# import dependencies\n",
        "import requests\n",
        "import concurrent.futures\n",
        "import ipywidgets as widgets\n",
        "from datetime import date\n",
        "import time\n",
        "from google.colab import auth\n",
        "import gspread\n",
        "from google.auth import default\n",
        "\n",
        "#Constants\n",
        "BASE_URL = \"https://api.getaccept.com/v1\"\n",
        "SOURCE_ENTITY_ID = \"\"\n",
        "#@title ↓↓ Click here to start\n",
        "#@markdown This step might take a few seconds to run. <br>\n",
        "#@markdown Then use __shift+enter__ key or click ► left of each step to go through the flow"
      ],
      "metadata": {
        "cellView": "form",
        "id": "vuDx0kz3iufs"
      },
      "execution_count": null,
      "outputs": []
    },
    {
      "cell_type": "code",
      "source": [
        "email_widget = widgets.Text(\n",
        "    value=\"\",\n",
        "    placeholder=\"Enter login email\",\n",
        "    description=\"Email:\",\n",
        "    disabled=False\n",
        ")\n",
        "password_widget = widgets.Password(\n",
        "    value=\"\",\n",
        "    placeholder=\"Enter password\",\n",
        "    description=\"Password:\",\n",
        "    disabled=False\n",
        ")\n",
        "#@markdown Use the form below to fill in login details to your entity in GetAccept and then run next cell to login\n",
        "widgets.VBox([email_widget, password_widget])"
      ],
      "metadata": {
        "cellView": "form",
        "id": "fX5isYQKi4Qt"
      },
      "execution_count": null,
      "outputs": []
    },
    {
      "cell_type": "code",
      "source": [
        "#@markdown Login and store API token\n",
        "if email_widget.value and password_widget.value:\n",
        "  payload = { \"email\": email_widget.value, \"password\": password_widget.value}\n",
        "  if SOURCE_ENTITY_ID != \"\":\n",
        "    payload[\"entity_id\"] = SOURCE_ENTITY_ID\n",
        "  response = requests.post(BASE_URL+\"/auth\", json=payload)\n",
        "  data = response.json()\n",
        "  if \"access_token\" in data:\n",
        "    source_auth_headers = { \"Authorization\": \"bearer \" + data[\"access_token\"]}\n",
        "  else:\n",
        "    raise TypeError(data[\"errors\"], \"Please check your credentials\")\n",
        "  # Check login and list entities\n",
        "  response = requests.get(BASE_URL+\"/users/me\", headers=source_auth_headers)\n",
        "  user_data = response.json()\n",
        "  print(\"Logged in as \" + user_data[\"user\"][\"first_name\"] + \" on entity \" + user_data[\"user\"][\"entity_name\"])\n",
        "  SOURCE_ENTITY_ID = user_data[\"user\"][\"entity_id\"]\n",
        "else:\n",
        "  raise TypeError(\"Could not login, missing email or password!\")"
      ],
      "metadata": {
        "cellView": "form",
        "id": "nBuT3IgIi6V7"
      },
      "execution_count": null,
      "outputs": []
    },
    {
      "cell_type": "code",
      "source": [
        "#@markdown Select the entity you would like to create users on. When you're done, select the next cell and run.\n",
        "source_entity_list = list(map(lambda x: (x[\"name\"],x[\"id\"]), user_data[\"entities\"]))\n",
        "source_entity_picker = widgets.Select(\n",
        "    options=source_entity_list,\n",
        "    value=SOURCE_ENTITY_ID,\n",
        ")\n",
        "source_entity_picker"
      ],
      "metadata": {
        "cellView": "form",
        "id": "sJMI5s3ejBo-"
      },
      "execution_count": null,
      "outputs": []
    },
    {
      "cell_type": "code",
      "source": [
        "#@markdown Verifying entity token of source...\n",
        "if source_entity_picker.value != SOURCE_ENTITY_ID:\n",
        "  # Switch entity\n",
        "  response = requests.get(BASE_URL+\"/refresh/\"+source_entity_picker.value, headers=source_auth_headers)\n",
        "  data = response.json()\n",
        "  if \"access_token\" in data:\n",
        "    source_auth_headers = { \"Authorization\": \"bearer \" + data[\"access_token\"]}\n",
        "  SOURCE_ENTITY_ID = source_entity_picker.value\n",
        "print(\"Token verified\")"
      ],
      "metadata": {
        "cellView": "form",
        "id": "Qbt_iHkUjDZv"
      },
      "execution_count": null,
      "outputs": []
    },
    {
      "cell_type": "code",
      "execution_count": null,
      "metadata": {
        "cellView": "form",
        "id": "fgakjg-ye8ah"
      },
      "outputs": [],
      "source": [
        "#@markdown Authenticate to Google Sheets\n",
        "auth.authenticate_user()\n",
        "creds, _ = default()\n",
        "gc = gspread.authorize(creds)\n"
      ]
    },
    {
      "cell_type": "code",
      "source": [
        "#@markdown Enter Google Sheet Spreadsheet URL from your browser\n",
        "gsheet_url_picker = widgets.Text(\n",
        "    value=\"\",\n",
        "    placeholder=\"ex. https://docs.google.com/spreadsheets/d/xyz...\",\n",
        "    description=\"URL:\",\n",
        "    disabled=False\n",
        ")\n",
        "gsheet_url_picker"
      ],
      "metadata": {
        "cellView": "form",
        "id": "CeNbSXoyfBDz"
      },
      "execution_count": null,
      "outputs": []
    },
    {
      "cell_type": "code",
      "source": [
        "#@markdown Select the worksheet with document data\n",
        "doc = gc.open_by_url(gsheet_url_picker.value)\n",
        "if doc:\n",
        "  sheets = doc.worksheets()\n",
        "  worksheet_list = list(map(lambda x: (x.title,x.id), sheets))\n",
        "  worksheet_picker = widgets.Select(\n",
        "      options=worksheet_list,\n",
        "      value=0,\n",
        "  )\n",
        "else:\n",
        "    raise TypeError(\"Could not access spreadsheet!\")\n",
        "worksheet_picker\n"
      ],
      "metadata": {
        "cellView": "form",
        "id": "J_NUBCEBgoBn"
      },
      "execution_count": null,
      "outputs": []
    },
    {
      "cell_type": "code",
      "source": [
        "#@markdown Optional settings\n",
        "send_invitation_checkbox = widgets.Checkbox(\n",
        "    value=False,\n",
        "    description='Send email invitation to new users',\n",
        "    disabled=False\n",
        ")\n",
        "send_invitation_checkbox"
      ],
      "metadata": {
        "cellView": "form",
        "id": "mrTOWwAR-VJP"
      },
      "execution_count": null,
      "outputs": []
    },
    {
      "cell_type": "code",
      "source": [
        "#@markdown Run update for each row in the sheet:\n",
        "\n",
        "def map_list_to_object(data):\n",
        "    columns = data[0]\n",
        "    result = []\n",
        "    for row in data[1:]:\n",
        "        row_dict = {columns[i]: row[i] for i in range(len(columns))}\n",
        "        result.append(row_dict)\n",
        "    return result\n",
        "\n",
        "def create_user(payload, progress):\n",
        "  result = requests.post(BASE_URL+\"/users\", json=payload, headers=source_auth_headers)\n",
        "  if result.status_code == 200:\n",
        "    create_user_result = result.json()\n",
        "    progress.value += 1\n",
        "  else:\n",
        "    progress.value += 1\n",
        "    create_user_result = result.json()\n",
        "    if \"message\" in create_user_result:\n",
        "      print(\"Error: \" + create_user_result[\"message\"] + \" - \" + str(payload[\"email\"]))\n",
        "    else:\n",
        "      print(create_user_result)\n",
        "\n",
        "\n",
        "# load and iterate through worksheet rows\n",
        "worksheet = sheets[worksheet_picker.index]\n",
        "rows = map_list_to_object(worksheet.get_all_values())\n",
        "progress = widgets.IntProgress(\n",
        "    value=0,\n",
        "    min=0,\n",
        "    max=len(rows),\n",
        "    description='Progress:',\n",
        "    bar_style='success',\n",
        "    orientation='horizontal'\n",
        ")\n",
        "display(progress)\n",
        "start_time = time.time()\n",
        "\n",
        "with concurrent.futures.ThreadPoolExecutor(max_workers=4) as executor:\n",
        "  for i,row in enumerate(rows):\n",
        "    payload = {\n",
        "      \"first_name\": row[\"first_name\"] if \"first_name\" in row else \"\",\n",
        "      \"last_name\": row[\"last_name\"] if \"last_name\" in row else \"\",\n",
        "      \"email\": row[\"email\"],\n",
        "      \"title\": row[\"title\"] if \"title\" in row else \"\",\n",
        "      \"phone\": row[\"phone\"] if \"phone\" in row else \"\",\n",
        "      \"mobile\": row[\"mobile\"] if \"mobile\" in row else \"\",\n",
        "      \"note\": row[\"note\"] if \"note\" in row else \"\",\n",
        "      \"role\": row[\"role\"] if \"role\" in row and row[\"role\"] in [\"user\",\"manager\",\"admin\"] else \"user\",\n",
        "      \"team_id\": row[\"team_id\"] if \"team_id\" in row else None,\n",
        "      \"skip_invitation\": not send_invitation_checkbox.value\n",
        "    }\n",
        "    executor.submit(create_user, payload, progress)\n",
        "end_time = time.time()\n",
        "elapsed_time = end_time - start_time\n",
        "print('%i users created in %f seconds' % (progress.value,elapsed_time))"
      ],
      "metadata": {
        "id": "czB2yCzIh4yA",
        "cellView": "form"
      },
      "execution_count": null,
      "outputs": []
    },
    {
      "cell_type": "code",
      "source": [
        "#@markdown ***Extra function to display team_ids for entity***\n",
        "\n",
        "result = requests.get(BASE_URL+\"/teams\", headers=source_auth_headers)\n",
        "if result.status_code == 200:\n",
        "  team_result = result.json()\n",
        "  progress.value += 1\n",
        "else:\n",
        "  print(result.text)\n",
        "if team_result:\n",
        "  print(\"- Team ID -\\t - Team Name -\")\n",
        "  for team in team_result[\"teams\"]:\n",
        "    print(team[\"team_id\"] + \"\\t\" + team[\"name\"])\n",
        "else:\n",
        "  print(\"No teams available\")"
      ],
      "metadata": {
        "id": "OKMhERWNSmGf",
        "cellView": "form"
      },
      "execution_count": null,
      "outputs": []
    }
  ]
}
