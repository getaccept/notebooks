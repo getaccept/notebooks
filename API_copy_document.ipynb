{
  "nbformat": 4,
  "nbformat_minor": 0,
  "metadata": {
    "colab": {
      "name": "API copy document",
      "provenance": [],
      "private_outputs": true,
      "collapsed_sections": [],
      "authorship_tag": "ABX9TyMnkW4eYeNvCNpEvJ+LMSex",
      "include_colab_link": true
    },
    "kernelspec": {
      "name": "python3",
      "display_name": "Python 3"
    }
  },
  "cells": [
    {
      "cell_type": "markdown",
      "metadata": {
        "id": "view-in-github",
        "colab_type": "text"
      },
      "source": [
        "<a href=\"https://colab.research.google.com/github/getaccept/notebooks/blob/master/API_copy_document.ipynb\" target=\"_parent\"><img src=\"https://colab.research.google.com/assets/colab-badge.svg\" alt=\"Open In Colab\"/></a>"
      ]
    },
    {
      "cell_type": "markdown",
      "metadata": {
        "id": "yImv1nBhAnHY",
        "colab_type": "text"
      },
      "source": [
        "## Copy document using GetAccept *API*\n",
        "\n",
        "Functions to copy document between entities and to create fillable PDF files from GetAccept templates or documents"
      ]
    },
    {
      "cell_type": "code",
      "metadata": {
        "id": "P8kOt0zMgHQm",
        "colab_type": "code",
        "colab": {}
      },
      "source": [
        "# import dependencies\n",
        "import requests\n",
        "import os\n",
        "import io\n",
        "from google.colab import files"
      ],
      "execution_count": 0,
      "outputs": []
    },
    {
      "cell_type": "code",
      "metadata": {
        "id": "SgLUxQ5qkW3I",
        "colab_type": "code",
        "cellView": "both",
        "colab": {}
      },
      "source": [
        "#@title Enter GetAccept login information\n",
        "#@markdown Remember to keep your credentials safe\n",
        "EMAIL = \"\" #@param {type:\"string\"}\n",
        "PASSWORD = \"\" #@param {type:\"string\"}\n",
        "BASEURL = \"https://api.getaccept.com/v1\" #@param {type:\"string\"}\n",
        "ACTION = \"Copy to other entity\" #@param [\"Copy to other entity\", \"Create fillable PDF\"]\n",
        "SOURCE_ENTITY = \"\" #@param {type: \"string\"}\n",
        "DESTINATION_ENTITY = \"\" #@param {type: \"string\"}\n",
        "#@markdown Find source document/template id by going to the document in GetAccept \\\n",
        "#@markdown and copy the id from the URL in the browser, eg. abc123de\n",
        "DOCUMENT_ID = \"\" #@param {type: \"string\"}"
      ],
      "execution_count": 0,
      "outputs": []
    },
    {
      "cell_type": "code",
      "metadata": {
        "id": "1aV081TwBh_I",
        "colab_type": "code",
        "colab": {}
      },
      "source": [
        "# Make auth request and store auth header\n",
        "if EMAIL and PASSWORD:\n",
        "  payload = { \"email\": EMAIL, \"password\": PASSWORD, \"entity_id\": SOURCE_ENTITY }\n",
        "  response = requests.post(BASEURL+\"/auth\", json=payload)\n",
        "  data = response.json()\n",
        "  if \"access_token\" in data:\n",
        "    source_auth_headers = { \"Authorization\": \"bearer \" + data[\"access_token\"]}\n",
        "  else:\n",
        "    raise TypeError(data[\"errors\"], \"Please check your credentials\")\n",
        "  # Check login and list entities\n",
        "  response = requests.get(BASEURL+\"/users/me\", headers=source_auth_headers)\n",
        "  user_data = response.json()\n",
        "  print(\"Logged in as \" + user_data[\"user\"][\"first_name\"] + \" on entity \" + user_data[\"user\"][\"entity_name\"])\n",
        "  if len(user_data[\"entities\"]) > 1:\n",
        "    print(\"Available entities:\\r\\n-\", '\\r\\n- '.join(map(lambda x: x[\"name\"]+\": \\t\"+x[\"id\"], user_data[\"entities\"])))\n"
      ],
      "execution_count": 0,
      "outputs": []
    },
    {
      "cell_type": "code",
      "metadata": {
        "id": "8GOWlq_bWELR",
        "colab_type": "code",
        "colab": {}
      },
      "source": [
        "# If destination is another entity, also auth this\n",
        "if DESTINATION_ENTITY != \"\":\n",
        "  response = requests.get(BASEURL+\"/refresh/\"+DESTINATION_ENTITY, headers=source_auth_headers)\n",
        "  data = response.json()\n",
        "  if \"access_token\" in data:\n",
        "    destination_auth_headers = { \"Authorization\": \"bearer \" + data[\"access_token\"]}\n",
        "    print(\"Authenticated to destination entity \" + DESTINATION_ENTITY)\n",
        "  else:\n",
        "    raise TypeError(data[\"errors\"], \"Please check your DESTINATION_ENTITY parameter\")"
      ],
      "execution_count": 0,
      "outputs": []
    },
    {
      "cell_type": "code",
      "metadata": {
        "id": "M9zXef4-Da9u",
        "colab_type": "code",
        "colab": {}
      },
      "source": [
        "if DOCUMENT_ID == \"\":\n",
        "  # Get selected document or template information\n",
        "  response = requests.get(BASEURL+\"/documents?sort_by=created&sort_order=desc&limit=1\",headers=source_auth_headers)\n",
        "  document_data = response.json()\n",
        "  document_data\n",
        "  document_data = document_data[0]\n",
        "  DOCUMENT_ID = document_data[\"id\"]\n",
        "else:\n",
        "  # List latest created documents\n",
        "  response = requests.get(BASEURL+\"/documents/\"+DOCUMENT_ID, headers=source_auth_headers)\n",
        "  document_data = response.json()\n",
        "\n",
        "if \"name\" in document_data:\n",
        "  print(\"Processing document \\\"%s\\\"\" % document_data[\"name\"])\n",
        "else:\n",
        "  raise TypeError(document_data[\"errors\"], \"Please check your DOCUMENT_ID parameter\")"
      ],
      "execution_count": 0,
      "outputs": []
    },
    {
      "cell_type": "code",
      "metadata": {
        "id": "uZNdk5O9EExg",
        "colab_type": "code",
        "colab": {}
      },
      "source": [
        "if document_data[\"field_count\"] > 0:\n",
        "  # Get fields for document\n",
        "  response = requests.get(BASEURL+\"/documents/\"+DOCUMENT_ID+\"/fields\",headers=source_auth_headers)\n",
        "  field_data = response.json()\n",
        "  print(\"Fields: \" + \", \".join(map(lambda x:x[\"field_type\"]+\": \"+x[\"field_value\"]+\"  \"+x[\"field_label\"], field_data[\"fields\"])))"
      ],
      "execution_count": 0,
      "outputs": []
    },
    {
      "cell_type": "code",
      "metadata": {
        "id": "gU1mLWWsK1Ck",
        "colab_type": "code",
        "colab": {}
      },
      "source": [
        "if ACTION == \"Copy to other entity\":\n",
        "  # Copy document/template to DESTINATION_ENTITY\n",
        "  response = requests.get(BASEURL+\"/documents/\"+DOCUMENT_ID+\"/download\", headers=source_auth_headers)\n",
        "  download_data = response.json()\n",
        "  if \"document_url\" in download_data:\n",
        "    pdf_url = download_data[\"document_url\"]\n",
        "    print(\"Have document download link\")\n",
        "  else:\n",
        "    raise TypeError(download_data[\"error\"], \"Could not find document\")"
      ],
      "execution_count": 0,
      "outputs": []
    },
    {
      "cell_type": "code",
      "metadata": {
        "id": "d8oD4kY-aiKD",
        "colab_type": "code",
        "colab": {}
      },
      "source": [
        "if ACTION == \"Copy to other entity\":\n",
        "  # Insert new document at destination entity\n",
        "  payload = document_data\n",
        "  for e in [\"id\",\"email_send_template_id\",\"external_id\",\"external_client_id\",\"unique_id\",\"send_date\",\"sign_date\",\"sender_id\",\"sender_email\",\"parent_id\",\"expiration_date\",\"video_id\",\"thumb_url\",\"preview_url\",\"download_url\"]: \n",
        "    payload.pop(e, None)\n",
        "  for index,recipient in enumerate(payload[\"recipients\"]):\n",
        "    if recipient[\"email\"] == \"\" and recipient[\"mobile\"] == \"\":\n",
        "      payload[\"recipients\"].pop(index)\n",
        "  payload[\"sender_id\"] = user_data[\"user\"][\"id\"]\n",
        "  payload[\"file_url\"] = pdf_url\n",
        "  #if payload[\"type\"] == \"template\":\n",
        "  #  payload[\"type\"] = \"sales\"\n",
        "\n",
        "  print(\"Copying document... this might take up to a minute\")\n",
        "  response = requests.post(BASEURL+\"/documents\", json=payload, headers=destination_auth_headers)\n",
        "  new_document_data = response.json()\n",
        "  if \"id\" in new_document_data:\n",
        "    print(\"Successfully copied document \" + new_document_data[\"id\"])\n",
        "  else:\n",
        "    raise TypeError(new_document_data, \"Something went wrong\")\n"
      ],
      "execution_count": 0,
      "outputs": []
    },
    {
      "cell_type": "code",
      "metadata": {
        "id": "qZR6Dt5voTdT",
        "colab_type": "code",
        "colab": {}
      },
      "source": [
        "if ACTION == \"Copy to other entity\":\n",
        "  # Get original document pages\n",
        "  response = requests.get(BASEURL+\"/documents/\"+DOCUMENT_ID+\"/pages\", headers=source_auth_headers)\n",
        "  page_data = response.json()\n",
        "  document_page_num = {}\n",
        "  for page in page_data[\"pages\"]:\n",
        "    document_page_num[page[\"page_id\"]] = page[\"page_num\"]\n",
        "  \n",
        "  print(\"pages: \" + \", \".join(map(lambda x : str(x[\"page_num\"]) + \": \" + x[\"page_id\"], page_data[\"pages\"])))\n",
        "  # print(document_page_num)\n",
        "  "
      ],
      "execution_count": 0,
      "outputs": []
    },
    {
      "cell_type": "code",
      "metadata": {
        "id": "WZg96WwWm45l",
        "colab_type": "code",
        "colab": {}
      },
      "source": [
        "if ACTION == \"Copy to other entity\" and \"id\" in new_document_data and document_data[\"field_count\"] > 0:\n",
        "  # Copy original fields to the new document\n",
        "  field_copy_counter = 0\n",
        "  for field in field_data[\"fields\"]:\n",
        "    payload = field.copy()\n",
        "    payload[\"page_num\"] = document_page_num[payload[\"page_id\"]]\n",
        "    for e in [\"page_id\",\"field_id\"]: \n",
        "      payload.pop(e, None)\n",
        "    if payload[\"field_options\"]:\n",
        "      payload[\"field_options\"] = ','.join(map(lambda x : x[\"value\"], payload[\"field_options\"]))\n",
        "    response = requests.post(BASEURL+\"/documents/\"+new_document_data[\"id\"]+\"/fields\", json=payload, headers=destination_auth_headers)\n",
        "    new_field_data = response.json()\n",
        "    if \"field_id\" in new_field_data:\n",
        "      field_copy_counter = field_copy_counter + 1\n",
        "    else:\n",
        "      raise TypeError(new_field_data, \"Something went wrong\")\n",
        "  \n",
        "  print(\"Copied \" + str(field_copy_counter) + \" fields to the document/template\")"
      ],
      "execution_count": 0,
      "outputs": []
    },
    {
      "cell_type": "code",
      "metadata": {
        "id": "rFMgGC9xY8_e",
        "colab_type": "code",
        "colab": {}
      },
      "source": [
        "# Download document as PDF\n",
        "if ACTION == \"Create fillable PDF\":\n",
        "  response = requests.get(BASEURL+\"/documents/\"+DOCUMENT_ID+\"/download?direct=true\",headers=source_auth_headers)\n",
        "  download_data = response.content\n",
        "  pdf_file = DOCUMENT_ID+\".pdf\"\n",
        "  with open(pdf_file, \"wb\") as file:\n",
        "    file.write(download_data)\n",
        "  print(\"Successfully downloaded file to \\\"%s\\\"\" % (os.getcwd()+\"/\"+pdf_file))\n",
        "  # files.download(pdf_file) "
      ],
      "execution_count": 0,
      "outputs": []
    },
    {
      "cell_type": "code",
      "metadata": {
        "id": "bmyJ4uNHH4v4",
        "colab_type": "code",
        "colab": {}
      },
      "source": [
        "if ACTION == \"Create fillable PDF\":\n",
        "  # install dependencies for fillable PDF\n",
        "  !pip install PyMuPDF\n",
        "  import fitz"
      ],
      "execution_count": 0,
      "outputs": []
    },
    {
      "cell_type": "code",
      "metadata": {
        "id": "tG36Tij1QlLz",
        "colab_type": "code",
        "colab": {}
      },
      "source": [
        "if ACTION == \"Create fillable PDF\":\n",
        "  # save down to fillable PDF\n",
        "  doc = fitz.open(pdf_file)           # or new: fitz.open(), followed by insertPage()\n",
        "  page = doc[0]                         # choose some page\n",
        "  page_ratio = page.rect.width/900\n",
        "\n",
        "  for field in field_data[\"fields\"]:\n",
        "    field_type = None\n",
        "    field_flags = None\n",
        "    choice_values = None\n",
        "    fill_color = None\n",
        "    border_style = \"S\"\n",
        "    border_width = 0\n",
        "\n",
        "    field_left = page_ratio*field[\"field_left\"]\n",
        "    field_top = page_ratio*field[\"field_top\"]\n",
        "    field_width = page_ratio*field[\"field_width\"]\n",
        "    field_height = page_ratio*field[\"field_height\"]\n",
        "\n",
        "    if field[\"field_type\"] == \"text\":\n",
        "      field_type = fitz.PDF_WIDGET_TYPE_TEXT\n",
        "      field_name = field[\"field_label\"]\n",
        "      field_value = field[\"field_value\"]\n",
        "      fill_color =  (0.9, 0.9, 0.9)\n",
        "      border_width = .5\n",
        "    elif field[\"field_type\"] == \"merge\":\n",
        "      field_type = fitz.PDF_WIDGET_TYPE_TEXT\n",
        "      field_flags = fitz.PDF_FIELD_IS_READ_ONLY\n",
        "      field_name = field[\"field_value\"]\n",
        "      field_value = field[\"field_value\"]\n",
        "    elif field[\"field_type\"] == \"signature\":\n",
        "      field_type = fitz.PDF_WIDGET_TYPE_SIGNATURE\n",
        "      field_flags = None\n",
        "      field_name = field[\"field_value\"]\n",
        "      field_value = None\n",
        "    elif field[\"field_type\"] == \"dropdown\":\n",
        "      field_type = fitz.PDF_WIDGET_TYPE_LISTBOX\n",
        "      field_name = field[\"field_label\"]\n",
        "      field_value = field[\"field_value\"]\n",
        "      choice_values = \"1,2,3,4\" #field[\"field_options\"]\n",
        "\n",
        "    if field[\"is_required\"]:\n",
        "      field_flags = fitz.PDF_FIELD_IS_REQUIRED\n",
        "\n",
        "    if field_type and field_name:\n",
        "      widget = fitz.Widget() \n",
        "      widget.rect = fitz.Rect(field_left, field_top, field_left+field_width, field_top+field_height)\n",
        "      widget.field_type = field_type\n",
        "      widget.field_name = field_name\n",
        "      widget.field_value = field_value\n",
        "      widget.choice_values = choice_values\n",
        "      widget.field_flags = field_flags\n",
        "      widget.text_fontsize = field_height*0.7\n",
        "      widget.border_style = border_style\n",
        "      widget.border_color = [0.5, 0.5, 0.5]\n",
        "      widget.border_width = border_width\n",
        "      widget.fill_color = fill_color\n",
        "      annot = page.addWidget(widget)         # add the widget\n",
        "\n",
        "  # print(\"unused rectangle height: %g\" % rc)          # just demo (should display \"44.2\")\n",
        "\n",
        "  doc.save(\"test.pdf\")   # update file with saveIncr. Save to new instead by doc.save(\"new.pdf\",...) \n",
        "  files.download(\"test.pdf\") \n",
        "  # files.download(pdf_file) "
      ],
      "execution_count": 0,
      "outputs": []
    }
  ]
}
