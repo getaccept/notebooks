{
  "nbformat": 4,
  "nbformat_minor": 0,
  "metadata": {
    "colab": {
      "name": "API Create shareable document",
      "provenance": [],
      "collapsed_sections": [],
      "include_colab_link": true
    },
    "kernelspec": {
      "name": "python3",
      "display_name": "Python 3"
    }
  },
  "cells": [
    {
      "cell_type": "markdown",
      "metadata": {
        "id": "view-in-github",
        "colab_type": "text"
      },
      "source": [
        "<a href=\"https://colab.research.google.com/github/getaccept/notebooks/blob/master/API_Create_shareable_document.ipynb\" target=\"_parent\"><img src=\"https://colab.research.google.com/assets/colab-badge.svg\" alt=\"Open In Colab\"/></a>"
      ]
    },
    {
      "cell_type": "code",
      "metadata": {
        "id": "U0qTIiGLQ68S"
      },
      "source": [
        "# import dependencies\n",
        "import requests\n",
        "import re\n",
        "from unicodedata import normalize\n",
        "import os\n",
        "from zipfile import ZipFile\n",
        "from google.colab import files\n",
        "from IPython.display import HTML, display, clear_output"
      ],
      "execution_count": null,
      "outputs": []
    },
    {
      "cell_type": "code",
      "metadata": {
        "id": "oqr54VK0RXs8"
      },
      "source": [
        "#@title Enter GetAccept login information\n",
        "#@markdown Remember to keep your credentials safe\n",
        "EMAIL = \"\" #@param {type:\"string\"}\n",
        "PASSWORD = \"\" #@param {type:\"string\"}\n",
        "BASEURL = \"https://api.getaccept.com/v1\" #@param {type:\"string\"}\n",
        "ENTITY = \"\" #@param {type: \"string\"}\n",
        "#@markdown If no entity id is entered the first/default will be used"
      ],
      "execution_count": null,
      "outputs": []
    },
    {
      "cell_type": "code",
      "metadata": {
        "id": "XHcJEBkEA4Ga"
      },
      "source": [
        "# Make auth request and store auth header\n",
        "if EMAIL and PASSWORD:\n",
        "  payload = { \"email\": EMAIL, \"password\": PASSWORD, \"entity_id\": ENTITY }\n",
        "  response = requests.post(BASEURL+\"/auth\", json=payload)\n",
        "  data = response.json()\n",
        "  if \"access_token\" in data:\n",
        "    auth_headers = { \"Authorization\": \"bearer \" + data[\"access_token\"]}\n",
        "  else:\n",
        "    raise TypeError(data[\"errors\"], \"Please check your credentials\")\n",
        "  # Check login and list entities\n",
        "  response = requests.get(BASEURL+\"/users/me\", headers=auth_headers)\n",
        "  user_data = response.json()\n",
        "  print(\"Logged in as \" + user_data[\"user\"][\"first_name\"] + \" on entity \" + user_data[\"user\"][\"entity_name\"])\n",
        "  if len(user_data[\"entities\"]) > 1:\n",
        "    print(\"Available entities:\\r\\n-\", '\\r\\n- '.join(map(lambda x: x[\"name\"]+\": \\t\"+x[\"id\"], user_data[\"entities\"])))\n",
        "else:\n",
        "  raise Exception(\"Please provide email and password to the GetAccept entity you want to export documents from\")"
      ],
      "execution_count": null,
      "outputs": []
    },
    {
      "cell_type": "code",
      "metadata": {
        "id": "49szLRgdR2FS"
      },
      "source": [
        "# Get template data\n",
        "url = BASEURL + \"/templates\"\n",
        "params = { \"showall\": \"true\", \"limit\": 1, \"offset\": 0 }\n",
        "response = requests.get(url, headers=source_auth_headers, params=params)\n",
        "templates = response.json()[\"templates\"]\n",
        "template_id = templates[0][\"id\"]\n",
        "print(\"Using template: \" + templates[0][\"name\"])"
      ],
      "execution_count": null,
      "outputs": []
    },
    {
      "cell_type": "code",
      "metadata": {
        "id": "ODju9ZqGSNwt"
      },
      "source": [
        "# Create new document\n",
        "payload = {\n",
        "    \"name\": \"My document\",\n",
        "    \"template_id\": template_id,\n",
        "    \"recipients\": [{\n",
        "        \"email\": EMAIL\n",
        "    }]\n",
        "}\n",
        "response = requests.post(BASEURL+\"/documents\", json=payload, headers=auth_headers)\n",
        "new_document_data = response.json()\n",
        "if \"id\" in new_document_data:\n",
        "  print(\"Document created with id: \"+new_document_data[\"id\"])\n",
        "else:\n",
        "  raise Exception(\"Could not create document, please check the input data\")"
      ],
      "execution_count": null,
      "outputs": []
    },
    {
      "cell_type": "code",
      "metadata": {
        "id": "6jIcp-3rTHOR"
      },
      "source": [
        "# Seal document\n",
        "payload = {}\n",
        "response = requests.post(BASEURL+\"/documents/\"+new_document_data[\"id\"]+\"/seal\", json=payload, headers=auth_headers)\n",
        "seal_data = response.json()\n",
        "if \"message\" in seal_data:\n",
        "  print(seal_data[\"message\"])\n",
        "else:\n",
        "  if len(seal_data[\"recipients\"]) > 0:\n",
        "    print(\"Document has been sealed!\\r\\n\")\n",
        "    print(\"Recipient links:\\r\\n-\", '\\r\\n- '.join(map(lambda x: x[\"first_name\"]+\" \"+x[\"last_name\"]+\": \\t\"+x[\"document_url\"], seal_data[\"recipients\"])))\n",
        "  else:\n",
        "    raise Exception(\"Could not seal the document, please check the input data\")"
      ],
      "execution_count": null,
      "outputs": []
    },
    {
      "cell_type": "code",
      "metadata": {
        "id": "jcmmVYGe0h8e"
      },
      "source": [
        "# Additional function to get recipient links\n",
        "response = requests.get(BASEURL+\"/documents/\"+new_document_data[\"id\"]+\"/recipients\", json=payload, headers=auth_headers)\n",
        "recipient_data = response.json()\n",
        "if \"message\" in recipient_data:\n",
        "  print(recipient_data[\"message\"])\n",
        "else:\n",
        "  if len(recipient_data[\"recipients\"]) > 0:\n",
        "    print(\"Recipient links:\\r\\n-\", '\\r\\n- '.join(map(lambda x: x[\"first_name\"]+\" \"+x[\"last_name\"]+\": \\t\"+x[\"document_url\"], recipient_data[\"recipients\"])))\n",
        "  else:\n",
        "    raise Exception(\"Could not get recipients for document, please check the input data\")"
      ],
      "execution_count": null,
      "outputs": []
    }
  ]
}