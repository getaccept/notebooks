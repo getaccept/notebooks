{
  "nbformat": 4,
  "nbformat_minor": 0,
  "metadata": {
    "colab": {
      "provenance": [],
      "private_outputs": true,
      "include_colab_link": true
    },
    "kernelspec": {
      "name": "python3",
      "display_name": "Python 3"
    }
  },
  "cells": [
    {
      "cell_type": "markdown",
      "metadata": {
        "id": "view-in-github",
        "colab_type": "text"
      },
      "source": [
        "<a href=\"https://colab.research.google.com/github/getaccept/notebooks/blob/master/API_copy_products_to_entities.ipynb\" target=\"_parent\"><img src=\"https://colab.research.google.com/assets/colab-badge.svg\" alt=\"Open In Colab\"/></a>"
      ]
    },
    {
      "cell_type": "markdown",
      "metadata": {
        "id": "yImv1nBhAnHY"
      },
      "source": [
        "## Copy product library using GetAccept *API*\n",
        "\n",
        "Functions to copy one or many products from a main entity to one or many subentities"
      ]
    },
    {
      "cell_type": "code",
      "metadata": {
        "id": "P8kOt0zMgHQm",
        "cellView": "form"
      },
      "source": [
        "# import dependencies\n",
        "import requests\n",
        "import os\n",
        "import io\n",
        "import json\n",
        "import copy\n",
        "import mimetypes\n",
        "import ipywidgets as widgets\n",
        "from google.colab import files\n",
        "from PIL import Image\n",
        "\n",
        "#Constants \n",
        "BASE_URL = \"https://api.getaccept.com/v1\"\n",
        "INT_BASE_URL = \"https://int.getaccept.com\"\n",
        "destination_entities = []\n",
        "SOURCE_ENTITY_ID = \"\"\n",
        "last_header = \"\"\n",
        "#@title ↓↓ Click here to start\n",
        "#@markdown This step might take a few seconds to run. <br>\n",
        "#@markdown Then use __shift+enter__ key or click ► left of each step to go through the flow"
      ],
      "execution_count": null,
      "outputs": []
    },
    {
      "cell_type": "code",
      "metadata": {
        "id": "SgLUxQ5qkW3I",
        "cellView": "form"
      },
      "source": [
        "email_widget = widgets.Text(\n",
        "    value=\"\",\n",
        "    placeholder=\"Enter login email\",\n",
        "    description=\"Email:\",\n",
        "    disabled=False\n",
        ")\n",
        "password_widget = widgets.Password(\n",
        "    value=\"\",\n",
        "    placeholder=\"Enter password\",\n",
        "    description=\"Password:\",\n",
        "    disabled=False\n",
        ")\n",
        "#@markdown Use the form below to fill in login details to your entity in GetAccept and then run next cell to login\n",
        "widgets.VBox([email_widget, password_widget])"
      ],
      "execution_count": null,
      "outputs": []
    },
    {
      "cell_type": "code",
      "metadata": {
        "id": "1aV081TwBh_I",
        "cellView": "form"
      },
      "source": [
        "#@markdown Login and store API token\n",
        "if email_widget.value and password_widget.value:\n",
        "  payload = { \"email\": email_widget.value, \"password\": password_widget.value}\n",
        "  if SOURCE_ENTITY_ID != \"\":\n",
        "    payload[\"entity_id\"] = SOURCE_ENTITY_ID\n",
        "  response = requests.post(BASE_URL+\"/auth\", json=payload)\n",
        "  data = response.json()\n",
        "  if \"access_token\" in data:\n",
        "    source_auth_headers = { \"Authorization\": \"bearer \" + data[\"access_token\"]}\n",
        "  else:\n",
        "    raise TypeError(data[\"errors\"], \"Please check your credentials\")\n",
        "  # Check login and list entities\n",
        "  response = requests.get(BASE_URL+\"/users/me\", headers=source_auth_headers)\n",
        "  user_data = response.json()\n",
        "  print(\"Logged in as \" + user_data[\"user\"][\"first_name\"] + \" on entity \" + user_data[\"user\"][\"entity_name\"])\n",
        "  SOURCE_ENTITY_ID = user_data[\"user\"][\"entity_id\"]\n",
        "else:\n",
        "  raise TypeError(\"Could not login, missing email or password!\")"
      ],
      "execution_count": null,
      "outputs": []
    },
    {
      "cell_type": "code",
      "source": [
        "#@markdown Select the source entity you would like to get product data from. When you're done, run the next cell\n",
        "source_entity_list = list(map(lambda x: (x[\"name\"],x[\"id\"]), user_data[\"entities\"]))\n",
        "source_entity_picker = widgets.Select(\n",
        "    options=sorted(source_entity_list),\n",
        "    value=SOURCE_ENTITY_ID,\n",
        ")\n",
        "source_entity_picker"
      ],
      "metadata": {
        "id": "8-PwoFKFOLIp",
        "cellView": "form"
      },
      "execution_count": null,
      "outputs": []
    },
    {
      "cell_type": "code",
      "source": [
        "#@markdown Verifying entity token of source...\n",
        "if source_entity_picker.value != SOURCE_ENTITY_ID:\n",
        "  # Switch entity\n",
        "  response = requests.get(BASE_URL+\"/refresh/\"+source_entity_picker.value, headers=source_auth_headers)\n",
        "  data = response.json()\n",
        "  if \"access_token\" in data:\n",
        "    source_auth_headers = { \"Authorization\": \"bearer \" + data[\"access_token\"]}\n",
        "  SOURCE_ENTITY_ID = source_entity_picker.value\n",
        "print(\"Authenticated to source entity \\\"%s\\\"\" % source_entity_picker.label)"
      ],
      "metadata": {
        "id": "wTFuxqNEWFf0",
        "cellView": "form"
      },
      "execution_count": null,
      "outputs": []
    },
    {
      "cell_type": "code",
      "source": [
        "#@markdown Select source product(s) to copy:<br>\n",
        "#@markdown _Hold down __Command__ to select multiple vales_<br>\n",
        "#@markdown _Click __Command + A__ to select all products_<br>\n",
        "def get_products(destination_auth_headers):\n",
        "  payload = {\"operationName\":\"getAllProducts\",\"variables\":{\"searchTerms\":\"\",\"limit\":100,\"offset\":0,\"sort\":\"desc\",\"sortBy\":\"createdAt\"},\"query\":\"query getAllProducts($searchTerms: String!, $limit: Int!, $offset: Int!, $sort: String!, $sortBy: SortAttributes!) {\\n  getAllProducts(searchTerms: $searchTerms, limit: $limit, offset: $offset, sort: $sort, sortBy: $sortBy) {\\n    products {\\n      ...productListFragment\\n      __typename\\n    }\\n    totalCount\\n    __typename\\n  }\\n}\\n\\nfragment productListFragment on Product {\\n  id\\n  sku\\n  name\\n  price\\n  tax\\n  description\\n  metaData {\\n    locale\\n    currency\\n    __typename\\n  }\\n  updatedByFullName\\n  updatedAt\\n  createdByFullName\\n  createdAt\\n  __typename\\n}\\n\"}\n",
        "  result = requests.post(INT_BASE_URL+\"/graphql?op=getAllProducts\", json=payload, headers=destination_auth_headers)\n",
        "  product_result = result.json()\n",
        "  if product_result.get(\"errors\"):\n",
        "    print(payload)\n",
        "    print(product_result)\n",
        "    raise TypeError(\"Could not get products!\")\n",
        "  else:\n",
        "    products = product_result[\"data\"][\"getAllProducts\"][\"products\"]\n",
        "    return products\n",
        "\n",
        "source_products = get_products(source_auth_headers)\n",
        "product_list = list(map(lambda x: (x[\"name\"],x[\"id\"]), source_products))\n",
        "source_product_picker = widgets.SelectMultiple(\n",
        "    options=product_list,\n",
        "    value=[]\n",
        ")\n",
        "source_product_picker"
      ],
      "metadata": {
        "cellView": "form",
        "id": "V3TI8i2mW7GB"
      },
      "execution_count": null,
      "outputs": []
    },
    {
      "cell_type": "code",
      "source": [
        "#@markdown Select destination entities to copy product(s) to:<br>\n",
        "#@markdown _Hold down __Command__ to select multiple vales_\n",
        "destination_entity_list = list(map(lambda x: (x[\"name\"],x[\"id\"]), list(filter(lambda x: x[\"id\"] != SOURCE_ENTITY_ID, user_data[\"entities\"]))))\n",
        "destination_picker = widgets.SelectMultiple(\n",
        "    options=sorted(destination_entity_list),\n",
        "    rows=10\n",
        ")\n",
        "overwrite_widget = widgets.Checkbox(\n",
        "    value=False,\n",
        "    description='Overwrite existing product/SKU',\n",
        "    disabled=False\n",
        ")\n",
        "widgets.VBox([destination_picker, overwrite_widget])\n"
      ],
      "metadata": {
        "cellView": "form",
        "id": "aDelzC4tX4ZT"
      },
      "execution_count": null,
      "outputs": []
    },
    {
      "cell_type": "code",
      "metadata": {
        "id": "8GOWlq_bWELR",
        "cellView": "form"
      },
      "source": [
        "#@markdown Get auth tokens for destination entities...\n",
        "if len(destination_picker.value) > 0:\n",
        "  if last_header == \"\":\n",
        "    last_header = source_auth_headers\n",
        "  destination_entities = []\n",
        "  for i,entity_id in enumerate(destination_picker.value):\n",
        "    response = requests.get(BASE_URL+\"/refresh/\"+entity_id, headers=last_header)\n",
        "    data = response.json()\n",
        "    if \"access_token\" in data:\n",
        "      last_header = { \"Authorization\": \"bearer \" + data[\"access_token\"]}\n",
        "      destination_entities.append({\n",
        "        \"id\": entity_id,\n",
        "        \"name\": destination_picker.label[i],\n",
        "        \"header\": last_header\n",
        "      })\n",
        "      print(\"Authenticated to destination entity \\\"%s\\\"\" % destination_picker.label[i])\n",
        "    else:\n",
        "      raise TypeError(data[\"errors\"], \"Could not authenicate to entity \" + destination_picker.label[i])\n",
        "else:\n",
        "  raise TypeError(\"No entities selected\")"
      ],
      "execution_count": null,
      "outputs": []
    },
    {
      "cell_type": "code",
      "source": [
        "#@markdown Preparing product functions\n",
        "def create_product(prod, destination_auth_headers):\n",
        "  if prod[\"metaData\"].get(\"__typename\"):\n",
        "    del prod[\"metaData\"][\"__typename\"]\n",
        "  payload = {\"operationName\":\"CreateProduct\",\"variables\":{\"payload\":{\"name\":prod[\"name\"],\"sku\":prod[\"sku\"],\"description\":prod[\"description\"],\"price\":prod[\"price\"],\"tax\":prod[\"tax\"],\"metaData\":prod[\"metaData\"]}},\"query\":\"mutation CreateProduct($payload: CreateProductInput!) {\\n  createProduct(payload: $payload)\\n}\\n\"}\n",
        "  result = requests.post(INT_BASE_URL+\"/graphql?op=CreateProduct\", json=payload, headers=destination_auth_headers)\n",
        "  create_product_result = result.json()\n",
        "  if create_product_result.get(\"errors\"):\n",
        "    print(payload)\n",
        "    print(create_product_result)\n",
        "    raise TypeError(\"Could not create product!\")\n",
        "  else:\n",
        "    if create_product_result[\"data\"][\"createProduct\"] == True:\n",
        "      print(\"- Product \\\"\" + prod[\"name\"] + \"\\\" added\")\n",
        "    else:\n",
        "      print(create_product_result)\n",
        "      print(\"Couldn't add product\")\n",
        "\n",
        "def update_product(prod, destination_product_id, destination_auth_headers):\n",
        "  if prod[\"metaData\"].get(\"__typename\"):\n",
        "    del prod[\"metaData\"][\"__typename\"]\n",
        "  payload = {\"operationName\":\"UpdateProduct\",\"variables\":{\"id\": destination_product_id, \"payload\":{\"name\":prod[\"name\"],\"sku\":prod[\"sku\"],\"description\":prod[\"description\"],\"price\":prod[\"price\"],\"tax\":prod[\"tax\"],\"metaData\":prod[\"metaData\"]}},\"query\":\"mutation UpdateProduct($id: String!, $payload: UpdateProductInput!) {\\n  updateProduct(id: $id, payload: $payload)\\n}\\n\"}\n",
        "  result = requests.post(INT_BASE_URL+\"/graphql?op=UpdateProduct\", json=payload, headers=destination_auth_headers)\n",
        "  update_product_result = result.json()\n",
        "  if update_product_result.get(\"errors\"):\n",
        "    print(payload)\n",
        "    print(update_product_result)\n",
        "    raise TypeError(\"Could not update product!\")\n",
        "  else:\n",
        "    if update_product_result[\"data\"][\"updateProduct\"] == True:\n",
        "      print(\"- Product \\\"\" + prod[\"name\"] + \"\\\" updated\")\n",
        "    else:\n",
        "      print(\"Couldn't update product\")\n",
        "\n",
        "\n",
        "def sync_product(source_product_id, destination_products, destination_auth_headers):\n",
        "  # Sync product between entities\n",
        "  for source_prod in source_products:\n",
        "    if source_prod[\"id\"] == source_product_id:\n",
        "      # Check if product sku exists\n",
        "      exists = False\n",
        "      for dest_prod in destination_products:\n",
        "        if source_prod[\"sku\"] == dest_prod[\"sku\"]:\n",
        "          exists = True\n",
        "          break\n",
        "      if exists and overwrite_widget.value:\n",
        "        update_product(source_prod, dest_prod[\"id\"], destination_auth_headers)\n",
        "      if not exists:\n",
        "        create_product(source_prod, destination_auth_headers)\n",
        "\n",
        "print(\"Ready to copy %d product(s) to %d %s\" % (len(source_product_picker.value), len(destination_entities), \"entity\" if len(destination_entities) == 1 else \"entities\"))"
      ],
      "metadata": {
        "cellView": "form",
        "id": "fBCRG6-1lucW"
      },
      "execution_count": null,
      "outputs": []
    },
    {
      "cell_type": "code",
      "source": [
        "#@markdown Running copy-functions for each destination entity:\n",
        "for dest in destination_entities:\n",
        "  print(\"Destination entity: \\\"\" + dest[\"name\"] + \"\\\":\")\n",
        "  destination_products = get_products(dest[\"header\"])\n",
        "  \n",
        "  for i,source_product_id in enumerate(source_product_picker.value):\n",
        "    product_name = source_product_picker.label[i]\n",
        "    sync_product(source_product_id, destination_products, dest[\"header\"])\n",
        "    \n",
        "print(\"All products has been copied\")"
      ],
      "metadata": {
        "cellView": "form",
        "id": "z8LUgm30XYML"
      },
      "execution_count": null,
      "outputs": []
    },
    {
      "cell_type": "code",
      "source": [],
      "metadata": {
        "id": "TZ4uaoP65kBh"
      },
      "execution_count": null,
      "outputs": []
    }
  ]
}