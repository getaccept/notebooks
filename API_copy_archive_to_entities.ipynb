{
  "nbformat": 4,
  "nbformat_minor": 0,
  "metadata": {
    "colab": {
      "provenance": [],
      "private_outputs": true,
      "include_colab_link": true
    },
    "kernelspec": {
      "name": "python3",
      "display_name": "Python 3"
    },
    "gpuClass": "standard"
  },
  "cells": [
    {
      "cell_type": "markdown",
      "metadata": {
        "id": "view-in-github",
        "colab_type": "text"
      },
      "source": [
        "<a href=\"https://colab.research.google.com/github/getaccept/notebooks/blob/master/API_copy_archive_to_entities.ipynb\" target=\"_parent\"><img src=\"https://colab.research.google.com/assets/colab-badge.svg\" alt=\"Open In Colab\"/></a>"
      ]
    },
    {
      "cell_type": "markdown",
      "metadata": {
        "id": "yImv1nBhAnHY"
      },
      "source": [
        "## Copy archived contracts using GetAccept *API*\n",
        "\n",
        "Functions to copy selected or all archived documents/contracts from one entity to one or many subentities including name, type, value, tags, sign date, contract dates and company information.\n",
        "\n",
        "__** NOTE ***__\n",
        "- Attachments can not be moved between entities and has to be kept in original entity"
      ]
    },
    {
      "cell_type": "code",
      "metadata": {
        "id": "P8kOt0zMgHQm",
        "cellView": "form"
      },
      "source": [
        "# import dependencies\n",
        "import requests\n",
        "import os\n",
        "import io\n",
        "import json\n",
        "import copy\n",
        "import mimetypes\n",
        "import ipywidgets as widgets\n",
        "from google.colab import files\n",
        "from PIL import Image\n",
        "\n",
        "#Constants \n",
        "BASE_URL = \"https://api.getaccept.com/v1\"\n",
        "INT_BASE_URL = \"https://int.getaccept.com\"\n",
        "destination_entities = []\n",
        "SOURCE_ENTITY_ID = \"\"\n",
        "last_header = \"\"\n",
        "#@title ↓↓ Click here to start\n",
        "#@markdown This step might take a few seconds to run. <br>\n",
        "#@markdown Then use __shift+enter__ key or click ► left of each step to go through the flow"
      ],
      "execution_count": null,
      "outputs": []
    },
    {
      "cell_type": "code",
      "metadata": {
        "id": "SgLUxQ5qkW3I",
        "cellView": "form"
      },
      "source": [
        "email_widget = widgets.Text(\n",
        "    value=\"\",\n",
        "    placeholder=\"Enter login email\",\n",
        "    description=\"Email:\",\n",
        "    disabled=False\n",
        ")\n",
        "password_widget = widgets.Password(\n",
        "    value=\"\",\n",
        "    placeholder=\"Enter password\",\n",
        "    description=\"Password:\",\n",
        "    disabled=False\n",
        ")\n",
        "#@markdown Use the form below to fill in login details to your entity in GetAccept and then run next cell to login\n",
        "widgets.VBox([email_widget, password_widget])"
      ],
      "execution_count": null,
      "outputs": []
    },
    {
      "cell_type": "code",
      "metadata": {
        "id": "1aV081TwBh_I",
        "cellView": "form"
      },
      "source": [
        "#@markdown Login and store API token\n",
        "if email_widget.value and password_widget.value:\n",
        "  payload = { \"email\": email_widget.value, \"password\": password_widget.value}\n",
        "  if SOURCE_ENTITY_ID != \"\":\n",
        "    payload[\"entity_id\"] = SOURCE_ENTITY_ID\n",
        "  response = requests.post(BASE_URL+\"/auth\", json=payload)\n",
        "  data = response.json()\n",
        "  if \"access_token\" in data:\n",
        "    source_auth_headers = { \"Authorization\": \"bearer \" + data[\"access_token\"]}\n",
        "  else:\n",
        "    raise TypeError(data[\"errors\"], \"Please check your credentials\")\n",
        "  # Check login and list entities\n",
        "  response = requests.get(BASE_URL+\"/users/me\", headers=source_auth_headers)\n",
        "  user_data = response.json()\n",
        "  print(\"Logged in as \" + user_data[\"user\"][\"first_name\"] + \" on entity \" + user_data[\"user\"][\"entity_name\"])\n",
        "  SOURCE_ENTITY_ID = user_data[\"user\"][\"entity_id\"]\n",
        "else:\n",
        "  raise TypeError(\"Could not login, missing email or password!\")"
      ],
      "execution_count": null,
      "outputs": []
    },
    {
      "cell_type": "code",
      "source": [
        "#@markdown Select the source entity you would like to get archived documents from. When you're done, run the next cell\n",
        "source_entity_list = list(map(lambda x: (x[\"name\"],x[\"id\"]), user_data[\"entities\"]))\n",
        "source_entity_picker = widgets.Select(\n",
        "    options=sorted(source_entity_list),\n",
        "    value=SOURCE_ENTITY_ID,\n",
        ")\n",
        "source_entity_picker"
      ],
      "metadata": {
        "id": "8-PwoFKFOLIp",
        "cellView": "form"
      },
      "execution_count": null,
      "outputs": []
    },
    {
      "cell_type": "code",
      "source": [
        "#@markdown Verifying entity token of source...\n",
        "if source_entity_picker.value != SOURCE_ENTITY_ID:\n",
        "  # Switch entity\n",
        "  response = requests.get(BASE_URL+\"/refresh/\"+source_entity_picker.value, headers=source_auth_headers)\n",
        "  data = response.json()\n",
        "  if \"access_token\" in data:\n",
        "    source_auth_headers = { \"Authorization\": \"bearer \" + data[\"access_token\"]}\n",
        "  SOURCE_ENTITY_ID = source_entity_picker.value\n",
        "print(\"Authenticated to source entity \\\"%s\\\"\" % source_entity_picker.label)"
      ],
      "metadata": {
        "id": "wTFuxqNEWFf0",
        "cellView": "form"
      },
      "execution_count": null,
      "outputs": []
    },
    {
      "cell_type": "code",
      "source": [
        "#@markdown Select archive folder id:<br>\n",
        "#@markdown Example from url: ...app.getaccept.com/contract-management/**r2j1hqkyx**<br>\n",
        "#@markdown enter **r2j1hqkyx** - Leave empty for root folder<br>\n",
        "contract_directory = \"\"\n",
        "contract_directory_widget = widgets.Text(\n",
        "    value=contract_directory,\n",
        "    placeholder=\"Enter archive directory/path\",\n",
        "    description=\"Folder:\",\n",
        "    disabled=False\n",
        ")\n",
        "contract_directory_widget"
      ],
      "metadata": {
        "cellView": "form",
        "id": "0sQvgPCgLr2f"
      },
      "execution_count": null,
      "outputs": []
    },
    {
      "cell_type": "code",
      "source": [
        "#@markdown Search for contracts:<br>\n",
        "#@markdown *Enter a search term or leave empty to list all*<br>\n",
        "search_directory = \"\"\n",
        "search_directory_widget = widgets.Text(\n",
        "    value=search_directory,\n",
        "    placeholder=\"Enter contract search term\",\n",
        "    description=\"Search:\",\n",
        "    disabled=False\n",
        ")\n",
        "search_directory_widget"
      ],
      "metadata": {
        "cellView": "form",
        "id": "NYIVgUe6Grcb"
      },
      "execution_count": null,
      "outputs": []
    },
    {
      "cell_type": "code",
      "source": [
        "#@markdown Select source documents(s) to copy:<br>\n",
        "#@markdown _Hold down __Command__ to select multiple vales_<br>\n",
        "#@markdown Select the first option in the list to copy all documents<br>\n",
        "payload = {\"operationName\":\"ContractManagementDocuments\",\"variables\":{\"folderId\":contract_directory_widget.value,\"showInAllFolders\":False,\"search\":[search_directory_widget.value],\"offset\":0,\"limit\":0,\"tags\":[],\"users\":[],\"value\":[0,10E10],\"contractLength\":[0,15],\"contractEndDate\":[None,None],\"documentTypes\":[\"sales\",\"hr\",\"introduction\",\"other\",\"document\"],\"signDate\":[\"1970-01-01T00:00:00.000Z\",None],\"sortBy\":\"signDate\",\"sortOrder\":\"DESC\",\"withoutTags\":False},\"query\":\"query ContractManagementDocuments($search: [String!], $offset: Int, $limit: Int, $tags: [String!], $folderId: String, $users: [String!], $value: [Float!], $contractLength: [Int!], $contractEndDate: [DateTime], $documentTypes: [DocumentType!], $signDate: [DateTime], $sortBy: String, $sortOrder: String, $showInAllFolders: Boolean, $withoutTags: Boolean) {\\n  contractManagement(\\n    search: $search\\n    offset: $offset\\n    limit: $limit\\n    tags: $tags\\n    folderId: $folderId\\n    users: $users\\n    valueFloat: $value\\n    contractLength: $contractLength\\n    contractEndDate: $contractEndDate\\n    documentTypes: $documentTypes\\n    signDate: $signDate\\n    sortBy: $sortBy\\n    sortOrder: $sortOrder\\n    showInAllFolders: $showInAllFolders\\n    withoutTags: $withoutTags\\n  ) {\\n    name\\n    id\\n    type\\n    isSigned\\n    recipients {\\n      firstName\\n      lastName\\n      email\\n      __typename\\n    }\\n    user {\\n      id\\n      fullName\\n      firstName\\n      lastName\\n      email\\n      __typename\\n    }\\n    companyName\\n    value\\n    contractStartDate\\n    contractEndDate\\n    signDate\\n    tags {\\n      title\\n      status\\n      id\\n      __typename\\n    }\\n    __typename\\n  }\\n}\"}\n",
        "result = requests.post(INT_BASE_URL+\"/graphql?op=ContractManagementDocuments\", json=payload, headers=source_auth_headers)\n",
        "contract_result = result.json()\n",
        "if contract_result.get(\"errors\"):\n",
        "  print(payload)\n",
        "  print(contract_result)\n",
        "  raise TypeError(\"Could not find any contracts!\")\n",
        "else:\n",
        "  souce_contracts_filtered = list(filter(lambda x: x[\"name\"] != \"\", contract_result[\"data\"][\"contractManagement\"]))\n",
        "  source_contract_list = list(map(lambda x: (x[\"name\"],x[\"id\"]), souce_contracts_filtered))\n",
        "source_contract_list.insert(0, ('-- COPY ALL CONTRACTS --',''))\n",
        "source_contract_widget = widgets.SelectMultiple(\n",
        "    options=source_contract_list,\n",
        "    value=['']\n",
        ")\n",
        "source_contract_widget"
      ],
      "metadata": {
        "id": "V3TI8i2mW7GB",
        "cellView": "form"
      },
      "execution_count": null,
      "outputs": []
    },
    {
      "cell_type": "code",
      "source": [
        "#@markdown Select destination entities to copy contracts to:<br>\n",
        "#@markdown _Hold down __Command__ to select multiple vales_\n",
        "destination_entity_list = list(map(lambda x: (x[\"name\"],x[\"id\"]), list(filter(lambda x: x[\"id\"] != SOURCE_ENTITY_ID, user_data[\"entities\"]))))\n",
        "destination_picker = widgets.SelectMultiple(\n",
        "    options=sorted(destination_entity_list),\n",
        "    rows=10\n",
        ")\n",
        "destination_picker"
      ],
      "metadata": {
        "cellView": "form",
        "id": "aDelzC4tX4ZT"
      },
      "execution_count": null,
      "outputs": []
    },
    {
      "cell_type": "code",
      "metadata": {
        "id": "8GOWlq_bWELR",
        "cellView": "form"
      },
      "source": [
        "#@markdown Get auth tokens for destination entities...\n",
        "if len(destination_picker.value) > 0:\n",
        "  if last_header == \"\":\n",
        "    last_header = source_auth_headers\n",
        "  destination_entities = []\n",
        "  for i,entity_id in enumerate(destination_picker.value):\n",
        "    response = requests.get(BASE_URL+\"/refresh/\"+entity_id, headers=last_header)\n",
        "    data = response.json()\n",
        "    if \"access_token\" in data:\n",
        "      last_header = { \"Authorization\": \"bearer \" + data[\"access_token\"]}\n",
        "      destination_entities.append({\n",
        "        \"id\": entity_id,\n",
        "        \"name\": destination_picker.label[i],\n",
        "        \"header\": last_header\n",
        "      })\n",
        "      print(\"Authenticated to destination entity \\\"%s\\\"\" % destination_picker.label[i])\n",
        "    else:\n",
        "      raise TypeError(data[\"errors\"], \"Could not authenicate to entity \" + destination_picker.label[i])\n",
        "else:\n",
        "  raise TypeError(\"No entities selected\")"
      ],
      "execution_count": null,
      "outputs": []
    },
    {
      "cell_type": "code",
      "source": [
        "#@markdown Preparing archive functions\n",
        "def get_source_document(document_data, direct=False):\n",
        "  # Download Source documents...\n",
        "  result = requests.get(BASE_URL+\"/documents/\"+document_data[\"id\"]+\"/download\" + (\"?direct=true\" if direct else \"\"), headers=source_auth_headers)\n",
        "  if direct:\n",
        "    return result.content\n",
        "  else:\n",
        "    document_result = result.json()\n",
        "    if document_result.get(\"errors\"):\n",
        "      print(payload)\n",
        "      print(document_result)\n",
        "      raise ValueError(document_result[\"errors\"][0][\"message\"])\n",
        "    else:\n",
        "      return document_result[\"document_url\"]\n",
        "\n",
        "\n",
        "def get_document_data(d, val):\n",
        "    return next(item for item in d[\"data\"][\"contractManagement\"] if item['id'] == val)\n",
        "\n",
        "def upload_destination_document(source_document, source_document_data, destination):\n",
        "      # Create new template with same name\n",
        "      payload = {\"name\":source_document_data[\"name\"], \"type\":source_document_data[\"type\"], \"value\":source_document_data[\"value\"] }\n",
        "      files = None\n",
        "      if type(source_document) == \"str\":\n",
        "        payload[\"file_url\"] = source_document\n",
        "      else:\n",
        "        files = {\"file\": source_document} \n",
        "      if source_document_data[\"signDate\"]:\n",
        "        payload[\"sign_date\"] = source_document_data[\"signDate\"]\n",
        "      else:\n",
        "        print(\"Skipping document \\\"%s\\\" - Missing sign-date\" % source_document_data[\"name\"]) \n",
        "        return\n",
        "      if source_document_data[\"tags\"]:\n",
        "        tags = source_document_data[\"tags\"]\n",
        "        tags = \",\".join([d['title'] for d in tags])\n",
        "        payload[\"tags\"] = tags\n",
        "      if source_document_data[\"companyName\"]:\n",
        "        payload[\"company_name\"] = source_document_data[\"companyName\"]\n",
        "      if source_document_data[\"contractStartDate\"]:\n",
        "        payload[\"contract_start_date\"] = source_document_data[\"contractStartDate\"]\n",
        "      if source_document_data[\"contractEndDate\"]:\n",
        "        payload[\"contract_end_date\"] = source_document_data[\"contractEndDate\"]\n",
        "\n",
        "      result = requests.post(BASE_URL+\"/upload/archive\", payload, files=files, headers=destination[\"header\"])\n",
        "      upload_result = result.json()\n",
        "      if upload_result.get(\"message\"):\n",
        "        print(payload)\n",
        "        print(upload_result)\n",
        "        raise ValueError(upload_result[\"message\"])\n",
        "      else:\n",
        "        return upload_result[\"document\"][\"id\"]\n",
        "if source_contract_widget.value[0] == '':\n",
        "  count = len(source_contract_widget.options) - 1\n",
        "else:\n",
        "  count = len(source_contract_widget.value)\n",
        "print(\"Ready to copy %d contract(s) to %d %s\" % (count, len(destination_entities), \"entity\" if len(destination_entities) == 1 else \"entities\"))"
      ],
      "metadata": {
        "cellView": "form",
        "id": "fBCRG6-1lucW"
      },
      "execution_count": null,
      "outputs": []
    },
    {
      "cell_type": "markdown",
      "source": [],
      "metadata": {
        "id": "MnEudiA0G-g4"
      }
    },
    {
      "cell_type": "code",
      "source": [
        "#@markdown Running copy-functions for each destination entity:\n",
        "if source_contract_widget.value[0] == '':\n",
        "  contract_list = source_contract_widget.options[1:]\n",
        "  contracts = []\n",
        "  for x in contract_list:\n",
        "    contracts.append(x[1])\n",
        "  contract_list = contracts\n",
        "else:\n",
        "  contract_list = source_contract_widget.value\n",
        "for i,document_id in enumerate(contract_list):\n",
        "  document_data = get_document_data(contract_result, document_id)\n",
        "  print(\"Copy contract: \\\"\" + document_data[\"name\"] + \"\\\"\")\n",
        "  source_document = get_source_document(document_data, direct=True)\n",
        "  for dest in destination_entities:\n",
        "    print(\"- Destination entity: \\\"\" + dest[\"name\"] + \"\\\":\")\n",
        "    # Get or create destination template\n",
        "    new_doc_id = upload_destination_document(source_document, document_data, dest)\n",
        "\n",
        "print(\"All contracts has been copied\")"
      ],
      "metadata": {
        "cellView": "form",
        "id": "z8LUgm30XYML"
      },
      "execution_count": null,
      "outputs": []
    }
  ]
}