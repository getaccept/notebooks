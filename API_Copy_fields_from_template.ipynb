{
  "nbformat": 4,
  "nbformat_minor": 0,
  "metadata": {
    "colab": {
      "name": "Copy fields from template",
      "provenance": [],
      "private_outputs": true,
      "collapsed_sections": []
    },
    "kernelspec": {
      "name": "python3",
      "display_name": "Python 3"
    }
  },
  "cells": [
    {
      "cell_type": "markdown",
      "metadata": {
        "id": "yImv1nBhAnHY",
        "colab_type": "text"
      },
      "source": [
        "## Copy fields using GetAccept *API*\n",
        "\n",
        "Functions to copy fields from a source template to a destination template. First, create the new template (\"destination template\") manually in the GetAccept platform. Then add roles to the new template, manually as well, according to the roles in the source template. IMPORTANT: the role name will be used as a key when mapping roles (and its corresponding fields) between the templates, so please make sure the role names are spelled exactly the same in source and destination templates."
      ]
    },
    {
      "cell_type": "code",
      "metadata": {
        "id": "P8kOt0zMgHQm",
        "colab_type": "code",
        "colab": {}
      },
      "source": [
        "# import dependencies\n",
        "import requests\n",
        "import os\n",
        "import io\n",
        "from google.colab import files"
      ],
      "execution_count": null,
      "outputs": []
    },
    {
      "cell_type": "code",
      "metadata": {
        "id": "SgLUxQ5qkW3I",
        "colab_type": "code",
        "cellView": "both",
        "colab": {}
      },
      "source": [
        "#@title Enter GetAccept information (ALL fields are required)\n",
        "#@markdown Remember to keep your credentials safe\n",
        "EMAIL = \"\" #@param {type:\"string\"}\n",
        "PASSWORD = \"\" #@param {type:\"string\"}\n",
        "BASEURL = \"https://api.getaccept.com/v1\" #@param {type:\"string\"}\n",
        "SOURCE_ENTITY = \"\" #@param {type: \"string\"}\n",
        "DESTINATION_ENTITY = \"\" #@param {type: \"string\"}\n",
        "#@markdown Find template id by going to the document in GetAccept \\\n",
        "#@markdown and copy the id from the URL in the browser, eg. abc123de\n",
        "SOURCE_TEMPLATE_ID = \"\" #@param {type: \"string\"}\n",
        "DESTINATION_TEMPLATE_ID = \"\" #@param {type: \"string\"}"
      ],
      "execution_count": null,
      "outputs": []
    },
    {
      "cell_type": "code",
      "metadata": {
        "id": "1aV081TwBh_I",
        "colab_type": "code",
        "colab": {}
      },
      "source": [
        "# Make auth request and store auth header\n",
        "if EMAIL==\"\" or PASSWORD==\"\" or BASEURL==\"\" or SOURCE_ENTITY==\"\" or DESTINATION_ENTITY==\"\" or SOURCE_TEMPLATE_ID==\"\" or DESTINATION_TEMPLATE_ID==\"\":\n",
        "  raise TypeError(\"Please fill out all fields!\")\n",
        "if EMAIL and PASSWORD:\n",
        "  payload = { \"email\": EMAIL, \"password\": PASSWORD, \"entity_id\": SOURCE_ENTITY }\n",
        "  response = requests.post(BASEURL+\"/auth\", json=payload)\n",
        "  data = response.json()\n",
        "  if \"access_token\" in data:\n",
        "    source_auth_headers = { \"Authorization\": \"bearer \" + data[\"access_token\"]}\n",
        "  else:\n",
        "    raise TypeError(data[\"errors\"], \"Please check your credentials\")\n",
        "  # Check login and list entities\n",
        "  response = requests.get(BASEURL+\"/users/me\", headers=source_auth_headers)\n",
        "  user_data = response.json()\n",
        "  print(\"Logged in as \" + user_data[\"user\"][\"first_name\"] + \" on entity \" + user_data[\"user\"][\"entity_name\"])\n",
        "  if len(user_data[\"entities\"]) > 1:\n",
        "    print(\"Available entities:\\r\\n-\", '\\r\\n- '.join(map(lambda x: x[\"name\"]+\": \\t\"+x[\"id\"], user_data[\"entities\"])))\n"
      ],
      "execution_count": null,
      "outputs": []
    },
    {
      "cell_type": "code",
      "metadata": {
        "id": "8GOWlq_bWELR",
        "colab_type": "code",
        "colab": {}
      },
      "source": [
        "# If destination is another entity, also auth this\n",
        "if DESTINATION_ENTITY == SOURCE_ENTITY:\n",
        "  destination_auth_headers = source_auth_headers\n",
        "else:\n",
        "  response = requests.get(BASEURL+\"/refresh/\"+DESTINATION_ENTITY, headers=source_auth_headers)\n",
        "  data = response.json()\n",
        "  if \"access_token\" in data:\n",
        "    destination_auth_headers = { \"Authorization\": \"bearer \" + data[\"access_token\"]}\n",
        "    print(\"Authenticated to destination entity \" + DESTINATION_ENTITY)\n",
        "  else:\n",
        "    raise TypeError(data[\"errors\"], \"Please check your DESTINATION_ENTITY parameter\")"
      ],
      "execution_count": null,
      "outputs": []
    },
    {
      "cell_type": "code",
      "metadata": {
        "id": "WpG0jBf--y9i",
        "colab_type": "code",
        "colab": {}
      },
      "source": [
        "# Get roles from templates\n",
        "response = requests.get(BASEURL+\"/templates/\"+SOURCE_TEMPLATE_ID+\"/roles\",headers=source_auth_headers)\n",
        "source_roles_data = response.json()\n",
        "response = requests.get(BASEURL+\"/templates/\"+DESTINATION_TEMPLATE_ID+\"/roles\",headers=destination_auth_headers)\n",
        "dest_roles_data = response.json()\n",
        "source_roles_dict = {}\n",
        "dest_roles_dict = {}\n",
        "for role in source_roles_data[\"roles\"]:\n",
        "  if role[\"role_name\"] == \"\":\n",
        "    source_roles_dict[role[\"role_id\"]] = role[\"email\"]\n",
        "  else:\n",
        "    source_roles_dict[role[\"role_id\"]] = role[\"role_name\"]\n",
        "for role in dest_roles_data[\"roles\"]:\n",
        "  if role[\"role_name\"] == \"\":\n",
        "    dest_roles_dict[role[\"email\"]] = role[\"role_id\"]\n",
        "  else:\n",
        "    dest_roles_dict[role[\"role_name\"]] = role[\"role_id\"]\n",
        "print(\"Source roles: \" + str(source_roles_dict))\n",
        "print(\"Dest roles: \" + str(dest_roles_dict))"
      ],
      "execution_count": null,
      "outputs": []
    },
    {
      "cell_type": "code",
      "metadata": {
        "id": "uZNdk5O9EExg",
        "colab_type": "code",
        "colab": {}
      },
      "source": [
        "# Get fields for source template\n",
        "response = requests.get(BASEURL+\"/documents/\"+SOURCE_TEMPLATE_ID+\"/fields\",headers=source_auth_headers)\n",
        "field_data = response.json()\n",
        "print(\"Fields: \" + \", \".join(map(lambda x:x[\"field_type\"]+\": \"+x[\"field_value\"]+\"  \"+x[\"field_label\"], field_data[\"fields\"])))"
      ],
      "execution_count": null,
      "outputs": []
    },
    {
      "cell_type": "code",
      "metadata": {
        "id": "qZR6Dt5voTdT",
        "colab_type": "code",
        "colab": {}
      },
      "source": [
        "# Get original document pages\n",
        "response = requests.get(BASEURL+\"/documents/\"+SOURCE_TEMPLATE_ID+\"/pages\", headers=source_auth_headers)\n",
        "page_data = response.json()\n",
        "document_page_num = {}\n",
        "for page in page_data[\"pages\"]:\n",
        "  document_page_num[page[\"page_id\"]] = page[\"page_num\"]\n",
        "\n",
        "print(\"pages: \" + \", \".join(map(lambda x : str(x[\"page_num\"]) + \": \" + x[\"page_id\"], page_data[\"pages\"])))\n",
        "# print(document_page_num)\n",
        "  "
      ],
      "execution_count": null,
      "outputs": []
    },
    {
      "cell_type": "code",
      "metadata": {
        "id": "WZg96WwWm45l",
        "colab_type": "code",
        "colab": {}
      },
      "source": [
        "# Copy original fields to the new document\n",
        "field_copy_counter = 0\n",
        "for field in field_data[\"fields\"]:\n",
        "  payload = field.copy()\n",
        "  payload[\"page_num\"] = document_page_num[payload[\"page_id\"]]\n",
        "  for e in [\"page_id\",\"field_id\"]: \n",
        "    payload.pop(e, None)\n",
        "  if payload[\"field_options\"]:\n",
        "    payload[\"field_options\"] = ','.join(map(lambda x : x[\"value\"], payload[\"field_options\"]))\n",
        "  if payload[\"recipient_id\"] != 0:\n",
        "    print(payload[\"recipient_id\"])\n",
        "    print(dest_roles_dict[source_roles_dict[payload[\"recipient_id\"]]])\n",
        "    payload[\"recipient_id\"] = dest_roles_dict[source_roles_dict[payload[\"recipient_id\"]]]\n",
        "  response = requests.post(BASEURL+\"/documents/\"+DESTINATION_TEMPLATE_ID+\"/fields\", json=payload, headers=destination_auth_headers)\n",
        "  new_field_data = response.json()\n",
        "  if \"field_id\" in new_field_data:\n",
        "    field_copy_counter = field_copy_counter + 1\n",
        "  else:\n",
        "    raise TypeError(new_field_data, \"Something went wrong\")\n",
        "\n",
        "print(\"Copied \" + str(field_copy_counter) + \" fields to the document/template\")"
      ],
      "execution_count": null,
      "outputs": []
    }
  ]
}
