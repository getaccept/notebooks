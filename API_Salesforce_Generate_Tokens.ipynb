{
  "nbformat": 4,
  "nbformat_minor": 0,
  "metadata": {
    "colab": {
      "name": "API Salesforce Generate Tokens",
      "provenance": [],
      "private_outputs": true,
      "collapsed_sections": [],
      "authorship_tag": "ABX9TyMaRdoKASY63AJ+B+YkaPJw",
      "include_colab_link": true
    },
    "kernelspec": {
      "name": "python3",
      "display_name": "Python 3"
    }
  },
  "cells": [
    {
      "cell_type": "markdown",
      "metadata": {
        "id": "view-in-github",
        "colab_type": "text"
      },
      "source": [
        "<a href=\"https://colab.research.google.com/github/getaccept/notebooks/blob/master/API_Salesforce_Generate_Tokens.ipynb\" target=\"_parent\"><img src=\"https://colab.research.google.com/assets/colab-badge.svg\" alt=\"Open In Colab\"/></a>"
      ]
    },
    {
      "cell_type": "markdown",
      "metadata": {
        "id": "yImv1nBhAnHY",
        "colab_type": "text"
      },
      "source": [
        "## Copy document using GetAccept *API*\n",
        "\n",
        "Functions to copy document between entities and to create fillable PDF files from GetAccept templates or documents"
      ]
    },
    {
      "cell_type": "code",
      "metadata": {
        "id": "P8kOt0zMgHQm",
        "colab_type": "code",
        "colab": {}
      },
      "source": [
        "# import dependencies\n",
        "import requests"
      ],
      "execution_count": 0,
      "outputs": []
    },
    {
      "cell_type": "code",
      "metadata": {
        "id": "SgLUxQ5qkW3I",
        "colab_type": "code",
        "cellView": "both",
        "colab": {}
      },
      "source": [
        "BASEURL = \"https://api.getaccept.com/v1\"\n",
        "#@title Enter GetAccept login information\n",
        "#@markdown Remember to keep your credentials safe\n",
        "EMAIL = \"\" #@param {type:\"string\"}\n",
        "PASSWORD = \"\" #@param {type:\"string\"}\n",
        "#@markdown Leave empty to use default entity or show list of available entities\n",
        "ENTITY_ID = \"\" #@param {type: \"string\"}\n",
        "#@markdown Find source document/template id by going to the document in GetAccept \\\n",
        "#@markdown and copy the id from the URL in the browser, eg. abc123de\n",
        "LISTENER_URL = \"\" #@param {type: \"string\"}\n",
        "EVENTS = ['document.sent','document.viewed','document.reviewed','document.opened','document.signed','document.approved','document.expired','document.rejected','document.partially_signed','document.recalled','document.hardbounced']\n",
        "\n",
        "#@markdown Optional notification email to notify on errors\n",
        "NOTIFICATION_EMAIL = \"\" #@param {type: \"string\"}"
      ],
      "execution_count": 0,
      "outputs": []
    },
    {
      "cell_type": "code",
      "metadata": {
        "id": "1aV081TwBh_I",
        "colab_type": "code",
        "colab": {}
      },
      "source": [
        "# Make auth request and store auth header\n",
        "if EMAIL and PASSWORD:\n",
        "  payload = { \"email\": EMAIL, \"password\": PASSWORD, \"entity_id\": ENTITY_ID }\n",
        "  response = requests.post(BASEURL+\"/auth\", json=payload)\n",
        "  data = response.json()\n",
        "  if \"access_token\" in data:\n",
        "    source_auth_headers = { \"Authorization\": \"bearer \" + data[\"access_token\"]}\n",
        "  else:\n",
        "    raise TypeError(data[\"errors\"], \"Please check your credentials\")\n",
        "  # Check login and list entities\n",
        "  response = requests.get(BASEURL+\"/users/me\", headers=source_auth_headers)\n",
        "  user_data = response.json()\n",
        "  print(\"Logged in as \" + user_data[\"user\"][\"first_name\"] + \" on entity \" + user_data[\"user\"][\"entity_name\"])\n",
        "  if len(user_data[\"entities\"]) > 1:\n",
        "    print(\"Available entities:\\r\\n-\", '\\r\\n- '.join(map(lambda x: x[\"name\"]+\": \\t\"+x[\"id\"], user_data[\"entities\"])))\n"
      ],
      "execution_count": 0,
      "outputs": []
    },
    {
      "cell_type": "code",
      "metadata": {
        "id": "M9zXef4-Da9u",
        "colab_type": "code",
        "colab": {}
      },
      "source": [
        "if LISTENER_URL != \"\":\n",
        "  # Create listener webhooks\n",
        "  for event_name in EVENTS:\n",
        "    payload = {\n",
        "      \"event\": event_name,\n",
        "      \"target_url\": LISTENER_URL,\n",
        "      \"global\": True,\n",
        "      \"notification_email\": NOTIFICATION_EMAIL\n",
        "    }\n",
        "    response = requests.post(BASEURL+\"/subscriptions\",headers=source_auth_headers, json=payload)\n",
        "    subscription_data = response.json()\n",
        "    if 'id' in subscription_data:\n",
        "      print(event_name+': Successfully created subscription')\n",
        "    else:\n",
        "      print(event_name+': '+ str(subscription_data) )"
      ],
      "execution_count": 0,
      "outputs": []
    },
    {
      "cell_type": "code",
      "metadata": {
        "id": "WPWvpE40EFRD",
        "colab_type": "code",
        "colab": {}
      },
      "source": [
        ""
      ],
      "execution_count": 0,
      "outputs": []
    }
  ]
}